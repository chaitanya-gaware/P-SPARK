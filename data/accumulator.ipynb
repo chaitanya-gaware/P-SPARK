{
 "cells": [
  {
   "cell_type": "code",
   "execution_count": 1,
   "metadata": {},
   "outputs": [],
   "source": [
    "from pyspark.sql import SparkSession\n",
    "from pyspark.sql.functions import *\n"
   ]
  },
  {
   "cell_type": "code",
   "execution_count": 2,
   "metadata": {},
   "outputs": [
    {
     "name": "stderr",
     "output_type": "stream",
     "text": [
      "23/12/05 22:47:09 WARN Utils: Your hostname, debian resolves to a loopback address: 127.0.1.1; using 192.168.42.132 instead (on interface wlp0s20f3)\n",
      "23/12/05 22:47:09 WARN Utils: Set SPARK_LOCAL_IP if you need to bind to another address\n",
      "23/12/05 22:47:09 WARN NativeCodeLoader: Unable to load native-hadoop library for your platform... using builtin-java classes where applicable\n",
      "Using Spark's default log4j profile: org/apache/spark/log4j-defaults.properties\n",
      "Setting default log level to \"WARN\".\n",
      "To adjust logging level use sc.setLogLevel(newLevel). For SparkR, use setLogLevel(newLevel).\n"
     ]
    }
   ],
   "source": [
    "spark = SparkSession.builder\\\n",
    "                    .appName('accumulator')\\\n",
    "                    .master('local')\\\n",
    "                    .getOrCreate()"
   ]
  },
  {
   "cell_type": "code",
   "execution_count": 3,
   "metadata": {},
   "outputs": [],
   "source": [
    "sc = spark.sparkContext"
   ]
  },
  {
   "cell_type": "code",
   "execution_count": null,
   "metadata": {},
   "outputs": [],
   "source": [
    "# text_df = spark.read.format(\"text\")\\\n",
    "#                     .load(\"war_and_peace.txt\")\n",
    "# text_df.show(2)\n"
   ]
  },
  {
   "cell_type": "code",
   "execution_count": 4,
   "metadata": {},
   "outputs": [],
   "source": [
    "file = sc.textFile(\"war_and_peace.txt\")\n",
    "blanklines = sc.accumulator(0)\n"
   ]
  },
  {
   "cell_type": "code",
   "execution_count": 5,
   "metadata": {},
   "outputs": [
    {
     "name": "stderr",
     "output_type": "stream",
     "text": [
      "                                                                                \r"
     ]
    },
    {
     "data": {
      "text/plain": [
       "['The Project Gutenberg EBook of War and Peace, by Leo Tolstoy',\n",
       " '',\n",
       " 'This eBook is for the use of anyone anywhere at no cost and with almost']"
      ]
     },
     "execution_count": 5,
     "metadata": {},
     "output_type": "execute_result"
    }
   ],
   "source": [
    "file.take(3)"
   ]
  },
  {
   "cell_type": "code",
   "execution_count": 6,
   "metadata": {},
   "outputs": [],
   "source": [
    "def extract_blank_lines(line):\n",
    "    global blanklines\n",
    "    if (line == \"\"):\n",
    "        blanklines += 1\n",
    "    return line.split(\" \")"
   ]
  },
  {
   "cell_type": "code",
   "execution_count": 14,
   "metadata": {},
   "outputs": [
    {
     "name": "stdout",
     "output_type": "stream",
     "text": [
      "blank lines: 103800\n"
     ]
    }
   ],
   "source": [
    "final = file.flatMap(extract_blank_lines)\n",
    "result = final.collect() # must have to collect the result othervise lazy evalution no operation is perform and you will get the zero error\n",
    "print(f'blank lines: {blanklines.value}')"
   ]
  },
  {
   "cell_type": "code",
   "execution_count": 15,
   "metadata": {},
   "outputs": [
    {
     "data": {
      "text/plain": [
       "['The',\n",
       " 'Project',\n",
       " 'Gutenberg',\n",
       " 'EBook',\n",
       " 'of',\n",
       " 'War',\n",
       " 'and',\n",
       " 'Peace,',\n",
       " 'by',\n",
       " 'Leo']"
      ]
     },
     "execution_count": 15,
     "metadata": {},
     "output_type": "execute_result"
    }
   ],
   "source": [
    "final = file.flatMap(extract_blank_lines)\n",
    "final.take(10)"
   ]
  }
 ],
 "metadata": {
  "kernelspec": {
   "display_name": ".spark-env",
   "language": "python",
   "name": "python3"
  },
  "language_info": {
   "codemirror_mode": {
    "name": "ipython",
    "version": 3
   },
   "file_extension": ".py",
   "mimetype": "text/x-python",
   "name": "python",
   "nbconvert_exporter": "python",
   "pygments_lexer": "ipython3",
   "version": "3.8.18"
  }
 },
 "nbformat": 4,
 "nbformat_minor": 2
}
