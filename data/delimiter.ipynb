{
 "cells": [
  {
   "cell_type": "code",
   "execution_count": 1,
   "metadata": {},
   "outputs": [
    {
     "name": "stderr",
     "output_type": "stream",
     "text": [
      "23/12/10 10:17:33 WARN Utils: Your hostname, debian resolves to a loopback address: 127.0.1.1; using 192.168.1.18 instead (on interface wlp0s20f3)\n",
      "23/12/10 10:17:33 WARN Utils: Set SPARK_LOCAL_IP if you need to bind to another address\n",
      "23/12/10 10:17:33 WARN NativeCodeLoader: Unable to load native-hadoop library for your platform... using builtin-java classes where applicable\n",
      "Using Spark's default log4j profile: org/apache/spark/log4j-defaults.properties\n",
      "Setting default log level to \"WARN\".\n",
      "To adjust logging level use sc.setLogLevel(newLevel). For SparkR, use setLogLevel(newLevel).\n",
      "23/12/10 10:17:34 WARN Utils: Service 'SparkUI' could not bind on port 4040. Attempting port 4041.\n"
     ]
    }
   ],
   "source": [
    "from pyspark.sql import SparkSession\n",
    "from pyspark.sql.types import *\n",
    "from pyspark.sql.functions import *\n",
    "\n",
    "spark = SparkSession.builder\\\n",
    "                    .appName('delimiter')\\\n",
    "                    .master('local')\\\n",
    "                    .getOrCreate()\n",
    "\n",
    "deli = ','\n",
    "opt = {'header':True, 'inferschema':False, 'mode':'permissive', }\n",
    "schema = StructType([\n",
    "    StructField('Code', StringType(), True),\n",
    "    StructField('symbol', StringType(), True),\n",
    "    StructField('Name', StringType(), True),\n",
    "    StructField('value', StringType(), True)\n",
    "])\n",
    "df = spark.read.format(\"csv\")\\\n",
    "                .options(**opt)\\\n",
    "                .option('delimiter',deli)\\\n",
    "                .schema(schema)\\\n",
    "                .load(\"delimiter.csv\")\n",
    "df.show()"
   ]
  },
  {
   "cell_type": "code",
   "execution_count": 8,
   "metadata": {},
   "outputs": [
    {
     "name": "stdout",
     "output_type": "stream",
     "text": [
      "+--------------------+------+----+-----+\n",
      "|                Code|symbol|Name|value|\n",
      "+--------------------+------+----+-----+\n",
      "|AED,د.إ,United Ar...|  null|null| null|\n",
      "|AFN,؋,Afghan afgh...|  null|null| null|\n",
      "|ALL,L,\"Albanian, ...|  null|null| null|\n",
      "|AMD,AMD,Armenian ...|  null|null| null|\n",
      "|ANG,ƒ,Netherlands...|  null|null| null|\n",
      "|AOA|Kz,Angolan kw...|  null|null| null|\n",
      "|ARS,$,Argentine p...|  null|null| null|\n",
      "|AUD,$   Australia...|  null|null| null|\n",
      "+--------------------+------+----+-----+\n",
      "\n"
     ]
    },
    {
     "name": "stderr",
     "output_type": "stream",
     "text": [
      "23/12/10 10:34:55 WARN CSVHeaderChecker: Number of column in CSV header is not equal to number of fields in the schema:\n",
      " Header length: 1, schema size: 4\n",
      "CSV file: file:///home/chaitanya/GIT/P-SPARK/data/delimiter.csv\n"
     ]
    }
   ],
   "source": [
    "deli = [\",\",\"|\"]\n",
    "opt = {'header':True, 'inferschema':False, 'mode':'permissive', }\n",
    "schema = StructType([\n",
    "    StructField('Code', StringType(), True),\n",
    "    StructField('symbol', StringType(), True),\n",
    "    StructField('Name', StringType(), True),\n",
    "    StructField('value', StringType(), True)\n",
    "])\n",
    "df = spark.read.format(\"csv\")\\\n",
    "                .options(**opt)\\\n",
    "                .option('delimiter',deli)\\\n",
    "                .schema(schema)\\\n",
    "                .load(\"delimiter.csv\")\n",
    "df.show()\n",
    "                "
   ]
  }
 ],
 "metadata": {
  "kernelspec": {
   "display_name": ".spark-env",
   "language": "python",
   "name": "python3"
  },
  "language_info": {
   "codemirror_mode": {
    "name": "ipython",
    "version": 3
   },
   "file_extension": ".py",
   "mimetype": "text/x-python",
   "name": "python",
   "nbconvert_exporter": "python",
   "pygments_lexer": "ipython3",
   "version": "3.8.18"
  }
 },
 "nbformat": 4,
 "nbformat_minor": 2
}
