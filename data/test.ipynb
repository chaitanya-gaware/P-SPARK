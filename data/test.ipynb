{
 "cells": [
  {
   "cell_type": "code",
   "execution_count": 7,
   "metadata": {},
   "outputs": [
    {
     "name": "stdout",
     "output_type": "stream",
     "text": [
      "False\n"
     ]
    }
   ],
   "source": [
    "s= \"qA2\"\n",
    "print(s.isdigit())"
   ]
  },
  {
   "cell_type": "code",
   "execution_count": 5,
   "metadata": {},
   "outputs": [
    {
     "name": "stdout",
     "output_type": "stream",
     "text": [
      "True\n",
      "False\n",
      "False\n",
      "False\n",
      "False\n"
     ]
    }
   ],
   "source": [
    "def check(strings):\n",
    "    if strings.isalnum():\n",
    "        print(True)\n",
    "    else:\n",
    "        print(False)\n",
    "    if strings.isalpha():\n",
    "        print(True)\n",
    "    else:\n",
    "        print(False)\n",
    "    if strings.isdigit():\n",
    "        print(True)\n",
    "    else:\n",
    "        print(False)\n",
    "    if strings.islower():\n",
    "        print(True)\n",
    "    else:\n",
    "        print(False)\n",
    "    if strings.isupper():\n",
    "        print(True)\n",
    "    else:\n",
    "        print(False)\n",
    "        \n",
    "if __name__ == '__main__':\n",
    "    check(s)"
   ]
  },
  {
   "cell_type": "code",
   "execution_count": 30,
   "metadata": {},
   "outputs": [
    {
     "name": "stdout",
     "output_type": "stream",
     "text": [
      "2023-12-01 23:48:03.672656\n",
      "12\n",
      "1\n",
      "2023\n",
      "2024-01-20 23:48:03.672656 date\n",
      "2024-02-01 23:48:03.672656\n",
      "monday 4\n",
      "start_of_week 2023-11-27 23:48:03.672656\n",
      "2023-12-03 23:48:03.672656\n"
     ]
    }
   ],
   "source": [
    "from datetime import datetime as dt, timedelta as td\n",
    "\n",
    "current_date = dt.now()\n",
    "print(current_date)\n",
    "print(current_date.month)\n",
    "print(current_date.day)\n",
    "print(current_date.year)\n",
    "\n",
    "date = current_date + td(days=50)\n",
    "print(date, \"date\")\n",
    "days_in_month =  (current_date.replace(day=1))\n",
    "print((date.replace(day=1) + td(days=32)).replace(day=1))\n",
    "\n",
    "weekdays = current_date + td(days=7)\n",
    "starting_day_of_week = date.replace(day=1).weekday()\n",
    "\n",
    "monday = current_date.weekday()\n",
    "print(\"monday\",monday)\n",
    "start_of_week = current_date -td(days = monday)\n",
    "print(\"start_of_week\", start_of_week)\n",
    "\n",
    "end_of_week = start_of_week + td(days=6)\n",
    "print(end_of_week)"
   ]
  },
  {
   "cell_type": "code",
   "execution_count": 16,
   "metadata": {},
   "outputs": [
    {
     "ename": "AttributeError",
     "evalue": "'datetime.timedelta' object has no attribute 'replace'",
     "output_type": "error",
     "traceback": [
      "\u001b[0;31m---------------------------------------------------------------------------\u001b[0m",
      "\u001b[0;31mAttributeError\u001b[0m                            Traceback (most recent call last)",
      "\u001b[1;32m/home/chaitanya/GIT/P-SPARK/data/test.ipynb Cell 4\u001b[0m line \u001b[0;36m1\n\u001b[0;32m----> <a href='vscode-notebook-cell:/home/chaitanya/GIT/P-SPARK/data/test.ipynb#W3sZmlsZQ%3D%3D?line=0'>1</a>\u001b[0m \u001b[39mprint\u001b[39m(td(days\u001b[39m=\u001b[39;49m\u001b[39m32\u001b[39;49m)\u001b[39m.\u001b[39;49mreplace(day\u001b[39m=\u001b[39m\u001b[39m1\u001b[39m))\n",
      "\u001b[0;31mAttributeError\u001b[0m: 'datetime.timedelta' object has no attribute 'replace'"
     ]
    }
   ],
   "source": [
    "print(td(days=32).replace(day=1))"
   ]
  },
  {
   "cell_type": "code",
   "execution_count": 7,
   "metadata": {},
   "outputs": [
    {
     "name": "stdout",
     "output_type": "stream",
     "text": [
      "1100,' ',14,' ',c, 12.000000 \n"
     ]
    }
   ],
   "source": [
    "n = 12\n",
    "print(f\"{n:b},' ',{n:o},' ',len{n:x}, {n:.1f} \")"
   ]
  },
  {
   "cell_type": "code",
   "execution_count": 16,
   "metadata": {},
   "outputs": [
    {
     "name": "stdout",
     "output_type": "stream",
     "text": [
      "12.63, 12, 13.0\n"
     ]
    }
   ],
   "source": [
    "n = 12.63333\n",
    "print(f'{n:.2f}, {int(n)}, {round(n,0)}')"
   ]
  },
  {
   "cell_type": "code",
   "execution_count": 57,
   "metadata": {},
   "outputs": [
    {
     "name": "stdout",
     "output_type": "stream",
     "text": [
      "<class 'str'>\n",
      "Left Padded: Hello     \n",
      "Right Padded:      Hello\n",
      "Centered: #####Hello#####\n"
     ]
    }
   ],
   "source": [
    "text = \"Hello\"\n",
    "print(type(text))\n",
    "\n",
    "# Left justify with padding on the right\n",
    "left_padded = text.ljust(10)\n",
    "print(\"Left Padded:\", left_padded)\n",
    "\n",
    "# Right justify with padding on the left\n",
    "right_padded = text.rjust(10, ' ')\n",
    "print(\"Right Padded:\", right_padded)\n",
    "\n",
    "# Center align with padding on both sides\n",
    "centered = text.center(15, '#')\n",
    "print(\"Centered:\", centered)"
   ]
  },
  {
   "cell_type": "code",
   "execution_count": 34,
   "metadata": {},
   "outputs": [
    {
     "name": "stdout",
     "output_type": "stream",
     "text": [
      "b\n"
     ]
    }
   ],
   "source": [
    "n = 11\n",
    "hexa = \n",
    "print(hexa)"
   ]
  },
  {
   "cell_type": "code",
   "execution_count": 53,
   "metadata": {},
   "outputs": [
    {
     "name": "stdout",
     "output_type": "stream",
     "text": [
      "1011 4 \n",
      " 13 2 \n",
      " b 1\n"
     ]
    }
   ],
   "source": [
    "n = 11\n",
    "binary = bin(n)[2:]\n",
    "octal = oct(n)[2:]\n",
    "hexa = hex(n)[2:]\n",
    "print(binary, len(binary),\"\\n\",octal, len(octal),\"\\n\",hexa, len(hexa))"
   ]
  },
  {
   "cell_type": "code",
   "execution_count": 67,
   "metadata": {},
   "outputs": [
    {
     "name": "stdout",
     "output_type": "stream",
     "text": [
      "6\n",
      "     1      1      1      1\n",
      "     2      2      2     10\n",
      "     3      3      3     11\n",
      "     4      4      4    100\n",
      "     5      5      5    101\n",
      "     6      6      6    110\n",
      "     7      7      7    111\n",
      "     8     10      8   1000\n",
      "     9     11      9   1001\n",
      "    10     12      A   1010\n",
      "    11     13      B   1011\n",
      "    12     14      C   1100\n",
      "    13     15      D   1101\n",
      "    14     16      E   1110\n",
      "    15     17      F   1111\n",
      "    16     20     10  10000\n",
      "    17     21     11  10001\n",
      "    18     22     12  10010\n",
      "    19     23     13  10011\n",
      "    20     24     14  10100\n",
      "    21     25     15  10101\n",
      "    22     26     16  10110\n",
      "    23     27     17  10111\n",
      "    24     30     18  11000\n",
      "    25     31     19  11001\n",
      "    26     32     1a  11010\n",
      "    27     33     1b  11011\n",
      "    28     34     1c  11100\n",
      "    29     35     1d  11101\n",
      "    30     36     1e  11110\n",
      "    31     37     1f  11111\n",
      "    32     40     20 100000\n",
      "    33     41     21 100001\n",
      "    34     42     22 100010\n",
      "    35     43     23 100011\n",
      "    36     44     24 100100\n",
      "    37     45     25 100101\n",
      "    38     46     26 100110\n",
      "    39     47     27 100111\n",
      "    40     50     28 101000\n",
      "    41     51     29 101001\n",
      "    42     52     2a 101010\n",
      "    43     53     2b 101011\n",
      "    44     54     2c 101100\n",
      "    45     55     2d 101101\n",
      "    46     56     2e 101110\n",
      "    47     57     2f 101111\n",
      "    48     60     30 110000\n",
      "    49     61     31 110001\n",
      "    50     62     32 110010\n",
      "    51     63     33 110011\n",
      "    52     64     34 110100\n",
      "    53     65     35 110101\n",
      "    54     66     36 110110\n",
      "    55     67     37 110111\n",
      "    56     70     38 111000\n",
      "    57     71     39 111001\n",
      "    58     72     3a 111010\n",
      "    59     73     3b 111011\n",
      "    60     74     3c 111100\n",
      "    61     75     3d 111101\n",
      "    62     76     3e 111110\n",
      "    63     77     3f 111111\n"
     ]
    }
   ],
   "source": [
    "def print_formatted(number):\n",
    "    pad = len(bin(number)[2:])\n",
    "    print(pad)\n",
    "    for i in range(1,number+1):\n",
    "        print(f'{str(i).rjust(pad)} {str(oct(i)[2:]).rjust(pad)} {str(hex(i)[2:]).capitalize().rjust(pad)} {str(bin(i)[2:]).rjust(pad)}')\n",
    "            \n",
    "\n",
    "\n",
    "if __name__ == '__main__':\n",
    "    n = int(input())\n",
    "    print_formatted(n)"
   ]
  },
  {
   "cell_type": "code",
   "execution_count": null,
   "metadata": {},
   "outputs": [],
   "source": [
    "from pyspark.sql import SparkSession\n",
    "\n",
    "# Create a Spark session\n",
    "spark = SparkSession.builder.appName(\"example\").getOrCreate()\n",
    "\n",
    "# Specify the custom delimiters\n",
    "custom_delimiters = [\",\", \";\", \"|\"]\n",
    "\n",
    "# Specify the file path\n",
    "\n",
    "# Read the file with multiple delimiters\n",
    "df = spark.read.option(\"delimiter\", custom_delimiters).csv(file_path)\n",
    "\n",
    "# Show the DataFrame\n",
    "df.show()\n"
   ]
  }
 ],
 "metadata": {
  "kernelspec": {
   "display_name": ".spark-env",
   "language": "python",
   "name": "python3"
  },
  "language_info": {
   "codemirror_mode": {
    "name": "ipython",
    "version": 3
   },
   "file_extension": ".py",
   "mimetype": "text/x-python",
   "name": "python",
   "nbconvert_exporter": "python",
   "pygments_lexer": "ipython3",
   "version": "3.8.18"
  }
 },
 "nbformat": 4,
 "nbformat_minor": 2
}
