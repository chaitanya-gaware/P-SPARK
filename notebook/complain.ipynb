{
 "cells": [
  {
   "cell_type": "code",
   "execution_count": 1,
   "metadata": {},
   "outputs": [],
   "source": [
    "from pyspark.sql import SparkSession\n",
    "from pyspark.sql.functions import * \n",
    "from pyspark.sql.types import *\n",
    "from pyspark.sql.window import Window"
   ]
  },
  {
   "cell_type": "code",
   "execution_count": 18,
   "metadata": {},
   "outputs": [],
   "source": [
    "spark = SparkSession.builder.appName(\"complain\").master(\"local\").getOrCreate()\n",
    "\n",
    "df = spark.read.format(\"csv\")\\\n",
    "                .option(\"header\",True)\\\n",
    "                .option(\"mode\", \"permissive\")\\\n",
    "                .load(\"/home/chaitanya/Downloads/complaints.csv\")\n",
    "                "
   ]
  },
  {
   "cell_type": "code",
   "execution_count": 4,
   "metadata": {},
   "outputs": [
    {
     "name": "stdout",
     "output_type": "stream",
     "text": [
      "+-------------+--------------------+--------------------+--------------------+--------------------+----------------------------+-----------------------+--------------------+-----+--------+-------------+--------------------------+-------------+--------------------+----------------------------+----------------+------------------+------------+\n",
      "|Date received|             Product|         Sub-product|               Issue|           Sub-issue|Consumer complaint narrative|Company public response|             Company|State|ZIP code|         Tags|Consumer consent provided?|Submitted via|Date sent to company|Company response to consumer|Timely response?|Consumer disputed?|Complaint ID|\n",
      "+-------------+--------------------+--------------------+--------------------+--------------------+----------------------------+-----------------------+--------------------+-----+--------+-------------+--------------------------+-------------+--------------------+----------------------------+----------------+------------------+------------+\n",
      "|   2024-01-31|Credit reporting ...|    Credit reporting|Incorrect informa...|Information belon...|                        null|   Company has respo...|Experian Informat...|   MD|   20720|         null|                     Other|          Web|          2024-01-31|        Closed with expla...|             Yes|               N/A|     8259709|\n",
      "|   2024-03-13|Credit reporting ...|    Credit reporting|Problem with a co...|Was not notified ...|                        null|                   null|       EQUIFAX, INC.|   SC|   29456|         null|                      null|          Web|          2024-03-13|                 In progress|             Yes|               N/A|     8537740|\n",
      "|   2023-09-15|Credit reporting ...|    Credit reporting|Problem with a co...|Their investigati...|                        null|   Company has respo...|Experian Informat...|   FL|   34987|         null|      Consent not provided|          Web|          2023-09-15|        Closed with expla...|             Yes|               N/A|     7549570|\n",
      "|   2024-03-19|     Debt collection|       I do not know|Written notificat...|Notification didn...|                        null|                   null|       EQUIFAX, INC.|   NE|   68111|         null|                      null|          Web|          2024-03-19|                 In progress|             Yes|               N/A|     8580293|\n",
      "|   2024-01-31|Credit reporting ...|    Credit reporting|Incorrect informa...|Account informati...|                        null|   Company has respo...|Experian Informat...|   LA|   71037|         null|      Consent not provided|          Web|          2024-01-31|        Closed with non-m...|             Yes|               N/A|     8256828|\n",
      "|   2024-02-09|            Mortgage|Conventional home...|Trouble during pa...|Trying to communi...|        In late XXXX, my ...|   Company has respo...|TRUIST FINANCIAL ...|   VA|   23223|         null|          Consent provided|          Web|          2024-02-09|        Closed with expla...|             Yes|               N/A|     8308409|\n",
      "|   2024-03-11|Credit reporting ...|    Credit reporting|Incorrect informa...|Information belon...|                        null|                   null|       EQUIFAX, INC.|   NC|   28202|         null|                      null|          Web|          2024-03-11|                 In progress|             Yes|               N/A|     8520484|\n",
      "|   2024-02-08|Credit reporting ...|    Credit reporting|Incorrect informa...|Information belon...|                        null|                   null|Experian Informat...|   TX|   76401|         null|                     Other|          Web|          2024-02-08|                 In progress|             Yes|               N/A|     8307367|\n",
      "|   2023-10-25|Money transfer, v...|    Virtual currency|       Fraud or scam|                null|        I thought I was t...|   Company has respo...|REGIONS FINANCIAL...|   AL|   365XX|Servicemember|          Consent provided|          Web|          2023-10-25|        Closed with expla...|             Yes|               N/A|     7755966|\n",
      "|   2024-03-08|Credit reporting ...|    Credit reporting|Incorrect informa...|Account informati...|        I can not open a ...|   Company has respo...|Fidelity National...|   FL|   333XX|         null|          Consent provided|          Web|          2024-03-08|        Closed with expla...|             Yes|               N/A|     8497834|\n",
      "|   2024-03-26|Credit reporting ...|    Credit reporting|Improper use of y...|Reporting company...|                        null|                   null|TRANSUNION INTERM...|   GA|   30236|         null|                      null|          Web|          2024-03-26|                 In progress|             Yes|               N/A|     8629970|\n",
      "|   2024-03-26|Credit reporting ...|    Credit reporting|Improper use of y...|Reporting company...|                        null|                   null|       EQUIFAX, INC.|   GA|   30236|         null|                      null|          Web|          2024-03-26|                 In progress|             Yes|               N/A|     8629969|\n",
      "|   2024-02-08|         Credit card|General-purpose c...|Incorrect informa...|Information belon...|                        null|                   null|FIRST PORTFOLIO S...|   AL|   36110|         null|                      null|          Web|          2024-02-08|        Closed with expla...|             Yes|               N/A|     8313258|\n",
      "|   2024-02-08|Credit reporting ...|    Credit reporting|Problem with a co...|Investigation too...|                        null|                   null|Experian Informat...|   TX|   75454|         null|                      null|          Web|          2024-02-08|                 In progress|             Yes|               N/A|     8307176|\n",
      "|   2023-09-15|Credit reporting ...|    Credit reporting|Problem with a co...|Their investigati...|        I discovered that...|   Company has respo...|Experian Informat...|   FL|   33021|         null|          Consent provided|          Web|          2023-09-15|        Closed with expla...|             Yes|               N/A|     7549627|\n",
      "|   2017-02-22|    Credit reporting|                null|Incorrect informa...|      Account status|                        null|                   null|       EQUIFAX, INC.|   FL|   33319|         null|                       N/A|        Phone|          2017-02-22|        Closed with expla...|             Yes|                No|     2355001|\n",
      "|   2024-02-20|         Credit card|General-purpose c...|Getting a credit ...|Card opened witho...|                        null|                   null|CAPITAL ONE FINAN...|   NC|   XXXXX|         null|                      null|          Web|          2024-02-20|        Closed with expla...|             Yes|               N/A|     8385535|\n",
      "|   2024-02-09|Checking or savin...|    Checking account| Managing an account|Problem making or...|        I opened a new ch...|   Company has respo...|      CITIBANK, N.A.|   TX|   75040|         null|          Consent provided|          Web|          2024-02-09|        Closed with expla...|             Yes|               N/A|     8308827|\n",
      "|   2024-02-09|Credit reporting ...|    Credit reporting|Improper use of y...|Credit inquiries ...|        I have 3 inquirie...|   Company has respo...| SYNCHRONY FINANCIAL|   HI|   96819|         null|          Consent provided|          Web|          2024-02-09|        Closed with non-m...|             Yes|               N/A|     8308792|\n",
      "|   2024-03-01|Credit reporting ...|    Credit reporting|Incorrect informa...|Information belon...|                        null|                   null|       EQUIFAX, INC.|   TX|   75081|         null|                     Other|          Web|          2024-03-01|                 In progress|             Yes|               N/A|     8456719|\n",
      "+-------------+--------------------+--------------------+--------------------+--------------------+----------------------------+-----------------------+--------------------+-----+--------+-------------+--------------------------+-------------+--------------------+----------------------------+----------------+------------------+------------+\n",
      "only showing top 20 rows\n",
      "\n"
     ]
    }
   ],
   "source": [
    "df.show()"
   ]
  },
  {
   "cell_type": "code",
   "execution_count": 31,
   "metadata": {},
   "outputs": [
    {
     "name": "stderr",
     "output_type": "stream",
     "text": [
      "                                                                                \r"
     ]
    },
    {
     "data": {
      "text/plain": [
       "7448785"
      ]
     },
     "execution_count": 31,
     "metadata": {},
     "output_type": "execute_result"
    }
   ],
   "source": [
    "df.count()"
   ]
  },
  {
   "cell_type": "code",
   "execution_count": 30,
   "metadata": {},
   "outputs": [
    {
     "name": "stderr",
     "output_type": "stream",
     "text": [
      "                                                                                \r"
     ]
    },
    {
     "data": {
      "text/plain": [
       "83140"
      ]
     },
     "execution_count": 30,
     "metadata": {},
     "output_type": "execute_result"
    }
   ],
   "source": [
    "# columns_name_list = df.columns\n",
    "# print(type(columns_name_list))\n",
    "# for column in columns_name_list:\n",
    "#     s = df.select(col(column).isNull())\n",
    "#     print(f\"{column} is {s}\")\n",
    "#         # print(f\"{column} contain null values\")\n",
    "        \n",
    "# Assuming df is your DataFrame\n",
    "columns_name_list = df.columns\n",
    "drop_df = df.dropna()\n",
    "drop_df.count()\n",
    "    \n",
    "\n"
   ]
  },
  {
   "cell_type": "code",
   "execution_count": 33,
   "metadata": {},
   "outputs": [
    {
     "name": "stderr",
     "output_type": "stream",
     "text": [
      "                                                                                \r"
     ]
    },
    {
     "data": {
      "text/plain": [
       "7365645"
      ]
     },
     "execution_count": 33,
     "metadata": {},
     "output_type": "execute_result"
    }
   ],
   "source": [
    "df_containing_null = df.exceptAll(drop_df)\n",
    "df_containing_null.count()\n"
   ]
  },
  {
   "cell_type": "code",
   "execution_count": 34,
   "metadata": {},
   "outputs": [
    {
     "name": "stderr",
     "output_type": "stream",
     "text": [
      "[Stage 128:=====================================================> (51 + 1) / 52]\r"
     ]
    },
    {
     "name": "stdout",
     "output_type": "stream",
     "text": [
      "+--------------------+--------------------+--------------------+--------------------+--------------------+----------------------------+-----------------------+--------------------+-----+--------+----+--------------------------+-------------+--------------------+----------------------------+----------------+------------------+------------+\n",
      "|       Date received|             Product|         Sub-product|               Issue|           Sub-issue|Consumer complaint narrative|Company public response|             Company|State|ZIP code|Tags|Consumer consent provided?|Submitted via|Date sent to company|Company response to consumer|Timely response?|Consumer disputed?|Complaint ID|\n",
      "+--------------------+--------------------+--------------------+--------------------+--------------------+----------------------------+-----------------------+--------------------+-----+--------+----+--------------------------+-------------+--------------------+----------------------------+----------------+------------------+------------+\n",
      "|          2024-02-08|         Credit card|General-purpose c...|Incorrect informa...|Information belon...|                        null|                   null|FIRST PORTFOLIO S...|   AL|   36110|null|                      null|          Web|          2024-02-08|        Closed with expla...|             Yes|               N/A|     8313258|\n",
      "|I am attaching co...| which are impact...|                null|                null|                null|                        null|                   null|                null| null|    null|null|                      null|         null|                null|                        null|            null|              null|        null|\n",
      "|I am attaching co...| which are impact...|                null|                null|                null|                        null|                   null|                null| null|    null|null|                      null|         null|                null|                        null|            null|              null|        null|\n",
      "|I am attaching co...| which are impact...|                null|                null|                null|                        null|                   null|                null| null|    null|null|                      null|         null|                null|                        null|            null|              null|        null|\n",
      "|          2024-02-26|Credit reporting ...|    Credit reporting|Improper use of y...|Reporting company...|                        null|                   null|TRANSUNION INTERM...|   MI|   48066|null|                      null|          Web|          2024-02-26|                 In progress|             Yes|               N/A|     8420543|\n",
      "|          2023-07-15|Credit reporting,...|    Credit reporting|Problem with a cr...|Their investigati...|                        null|   Company has respo...|Experian Informat...|   NJ|   07801|null|      Consent not provided|          Web|          2023-07-15|        Closed with expla...|             Yes|               N/A|     7256641|\n",
      "|I have already pr...|                null|                null|                null|                null|                        null|                   null|                null| null|    null|null|                      null|         null|                null|                        null|            null|              null|        null|\n",
      "|I have already pr...|                null|                null|                null|                null|                        null|                   null|                null| null|    null|null|                      null|         null|                null|                        null|            null|              null|        null|\n",
      "|I have already pr...|                null|                null|                null|                null|                        null|                   null|                null| null|    null|null|                      null|         null|                null|                        null|            null|              null|        null|\n",
      "|I have already pr...|                null|                null|                null|                null|                        null|                   null|                null| null|    null|null|                      null|         null|                null|                        null|            null|              null|        null|\n",
      "|I have already pr...|                null|                null|                null|                null|                        null|                   null|                null| null|    null|null|                      null|         null|                null|                        null|            null|              null|        null|\n",
      "|I have already pr...|                null|                null|                null|                null|                        null|                   null|                null| null|    null|null|                      null|         null|                null|                        null|            null|              null|        null|\n",
      "|I have already pr...|                null|                null|                null|                null|                        null|                   null|                null| null|    null|null|                      null|         null|                null|                        null|            null|              null|        null|\n",
      "|I have already pr...|                null|                null|                null|                null|                        null|                   null|                null| null|    null|null|                      null|         null|                null|                        null|            null|              null|        null|\n",
      "|I have already pr...|                null|                null|                null|                null|                        null|                   null|                null| null|    null|null|                      null|         null|                null|                        null|            null|              null|        null|\n",
      "|I have already pr...|                null|                null|                null|                null|                        null|                   null|                null| null|    null|null|                      null|         null|                null|                        null|            null|              null|        null|\n",
      "|I have already pr...|                null|                null|                null|                null|                        null|                   null|                null| null|    null|null|                      null|         null|                null|                        null|            null|              null|        null|\n",
      "|I have already pr...|                null|                null|                null|                null|                        null|                   null|                null| null|    null|null|                      null|         null|                null|                        null|            null|              null|        null|\n",
      "|I have already pr...|                null|                null|                null|                null|                        null|                   null|                null| null|    null|null|                      null|         null|                null|                        null|            null|              null|        null|\n",
      "|I have already pr...|                null|                null|                null|                null|                        null|                   null|                null| null|    null|null|                      null|         null|                null|                        null|            null|              null|        null|\n",
      "+--------------------+--------------------+--------------------+--------------------+--------------------+----------------------------+-----------------------+--------------------+-----+--------+----+--------------------------+-------------+--------------------+----------------------------+----------------+------------------+------------+\n",
      "only showing top 20 rows\n",
      "\n"
     ]
    },
    {
     "name": "stderr",
     "output_type": "stream",
     "text": [
      "                                                                                \r"
     ]
    }
   ],
   "source": [
    "df_containing_null.show()"
   ]
  },
  {
   "cell_type": "code",
   "execution_count": 35,
   "metadata": {},
   "outputs": [
    {
     "name": "stdout",
     "output_type": "stream",
     "text": [
      "+--------------------+--------------------+--------------------+--------------------+--------------------+----------------------------+-----------------------+--------------------+--------------------+--------------------+--------------------+--------------------------+--------------------+--------------------+----------------------------+--------------------+--------------------+--------------------+\n",
      "|       Date received|             Product|         Sub-product|               Issue|           Sub-issue|Consumer complaint narrative|Company public response|             Company|               State|            ZIP code|                Tags|Consumer consent provided?|       Submitted via|Date sent to company|Company response to consumer|    Timely response?|  Consumer disputed?|        Complaint ID|\n",
      "+--------------------+--------------------+--------------------+--------------------+--------------------+----------------------------+-----------------------+--------------------+--------------------+--------------------+--------------------+--------------------------+--------------------+--------------------+----------------------------+--------------------+--------------------+--------------------+\n",
      "|          2024-01-29|Credit reporting ...|    Credit reporting|Improper use of y...|Reporting company...|        THIS PRESENTS A S...|   Company has respo...|Experian Informat...|                  GA|               30058|       Servicemember|          Consent provided|                 Web|          2024-01-29|        Closed with non-m...|                 Yes|                 N/A|             8245148|\n",
      "|          2024-02-14|Credit reporting ...|    Credit reporting|Improper use of y...|Reporting company...|        \"According to the...|           impartiality| and respect for ...| and I am the CON...| which 15 USC 680...|       and it states|       \"\" It is the pol...|           XXXX XXXX|           XXXX XXXX|         XXXX XXXX XXXX X...|        Section 604a|           Section 2| states that \"\" I...|\n",
      "|          2024-03-03|Credit reporting ...|    Credit reporting|Improper use of y...|Credit inquiries ...|        \"I am a XXXX XXXX...|    despite no payme...|Company has respo...|HYUNDAI CAPITAL A...|                  HI|               96818|             Servicemember|    Consent provided|                 Web|                  2024-03-03|Closed with expla...|                 Yes|                 N/A|\n",
      "|Thank you for tak...| who is giving th...| copies of the le...| the returned env...| post office rece...|         notes from phone...|    as well as docum...|Company has respo...|BARCLAYS BANK DEL...|                  CA|               94509|            Older American|    Consent provided|                 Web|                  2024-02-09|Closed with expla...|                 Yes|                 N/A|\n",
      "|          2024-01-24|Credit reporting ...|    Credit reporting|Problem with a co...|Their investigati...|        The failure to fu...|   Company has respo...|TRANSUNION INTERM...|                  TX|               79107|       Servicemember|          Consent provided|                 Web|          2024-01-24|        Closed with non-m...|                 Yes|                 N/A|             8216197|\n",
      "|The principal had...| and what I know ...| and unauthorized...| instead of Exper...|            Experian|         fraudulently pla...|    and wrote it fro...| and disclosed fu...|   and the fact that|            Experian| did not remove t...|         as of this notice| is further prime...| showing they are...|         before they carr...| and conduct busi...| outlined in the ...| and other applic...|\n",
      "|The inaccurate an...| and Last Active ...| and Last Active ...| and Last Active ...| and Last Active ...|         and Last Active ...|    and Last Active ...| and Last Active ...| and Last Active ...| and Last Active ...| and Last Active ...|       inaccurate or un...| after any reinve...| an item of the i...|         the consumer rep...| or modify that i...|      as appropriate| based on the res...|\n",
      "|          2023-12-27|Credit reporting ...|    Credit reporting|Incorrect informa...|Account informati...|        Incorrect informa...|   Company has respo...|Experian Informat...|                  GA|               303XX|       Servicemember|          Consent provided|                 Web|          2023-12-27|        Closed with expla...|                 Yes|                 N/A|             8068602|\n",
      "|          2024-02-24|Credit reporting ...|    Credit reporting|Improper use of y...|Reporting company...|        \"\"\" According to ...|           impartiality| and a respect fo...| any consumer rep...|       experian XXXX| XXXX XXXX ( XXXX...|                non-verbal|             written| implied or other...|         no consumer repo...| other than recor...|Company has respo...|TRANSUNION INTERM...|\n",
      "|          2024-03-16|Credit reporting ...|    Credit reporting|Incorrect informa...|Information is mi...|        I spoke with a su...|   Company believes ...|SELECT PORTFOLIO ...|                  CT|               06492|       Servicemember|          Consent provided|                 Web|          2024-03-20|        Closed with expla...|                 Yes|                 N/A|             8561409|\n",
      "|          2023-08-03|Credit reporting,...|    Credit reporting|Incorrect informa...|Information belon...|        Please see the at...|   Company has respo...|BANK OF AMERICA, ...|                  GA|               30135|       Servicemember|          Consent provided|                 Web|          2023-08-03|        Closed with expla...|                 Yes|                 N/A|             7349200|\n",
      "|          2023-08-13|     Debt collection|           Auto debt|Written notificat...|Didn't receive no...|        I am not liable f...|   Company has respo...| ALLY FINANCIAL INC.|                  IL|               XXXXX|       Servicemember|          Consent provided|                 Web|          2023-08-13|        Closed with expla...|                 Yes|                 N/A|             7392630|\n",
      "|Account name : XX...|          XXXX XXXX |     XXXX XXXX XXXX |          XXXX XXXX | XXXX XXXX XXXX XXXX|                   XXXX XXXX|              XXXX XXXX|     XXXX XXXX XXXX |      XXXX XXXX XXXX|          XXXX XXXX |          XXXX XXXX |           XXXX XXXX XXXX |           XXXX XXXX| XXXX XXXX XXXX XXXX|              XXXX XXXX XXXX|     XXXX XXXX XXXX |               XXXX |                XXXX|\n",
      "|          2023-08-29|Checking or savin...|    Checking account| Managing an account|Deposits and with...|        On XX/XX/XXXX I l...|   Company has respo...|        U.S. BANCORP|                  IL|               XXXXX|Older American, S...|          Consent provided|                 Web|          2023-08-29|        Closed with expla...|                 Yes|                 N/A|             7469725|\n",
      "|          2022-11-17|Credit reporting,...|    Credit reporting|Incorrect informa...|Information belon...|        Back in XXXX I no...|   Company has respo...|TRANSUNION INTERM...|                  CA|               91601|       Servicemember|          Consent provided|                 Web|          2022-11-17|        Closed with expla...|                 Yes|                 N/A|             6216100|\n",
      "|          2023-09-11|     Debt collection|          Other debt|Attempts to colle...|Debt was result o...|        I receive a colle...|   Company believes ...|Automotive Leasin...|                  LA|               70508|       Servicemember|          Consent provided|                 Web|          2023-09-11|        Closed with expla...|                 Yes|                 N/A|             7529475|\n",
      "|          2024-02-13|Credit reporting ...|    Credit reporting|Incorrect informa...|Old information r...|        XXXX XXXX XXXX is...|   Company has respo...|TRUIST FINANCIAL ...|                  AZ|               850XX|       Servicemember|          Consent provided|                 Web|          2024-02-13|        Closed with expla...|                 Yes|                 N/A|             8334673|\n",
      "|          2023-09-01|Credit reporting ...|    Credit reporting|Improper use of y...|Reporting company...|        \"According to the...|           impartiality| and a respect fo...| any consumer rep...|                XXXX| ( Furnisher of i...|                non-verbal|             written| implied or other...|         XXXX & XXXX Neve...| no consumer repo...| other than recor...|Company has respo...|\n",
      "|          2023-12-18|Credit reporting ...|    Credit reporting|Incorrect informa...|Old information r...|        I filed for XXXX ...|   Company has respo...|Experian Informat...|                  GA|               XXXXX|       Servicemember|          Consent provided|                 Web|          2023-12-18|        Closed with non-m...|                 Yes|                 N/A|             8015856|\n",
      "|          2024-02-27|Checking or savin...|    Checking account| Managing an account|Deposits and with...|        I opened an Ally ...|   Company has respo...| ALLY FINANCIAL INC.|                  NC|               28314|      Older American|          Consent provided|                 Web|          2024-02-27|        Closed with expla...|                 Yes|                 N/A|             8433831|\n",
      "+--------------------+--------------------+--------------------+--------------------+--------------------+----------------------------+-----------------------+--------------------+--------------------+--------------------+--------------------+--------------------------+--------------------+--------------------+----------------------------+--------------------+--------------------+--------------------+\n",
      "only showing top 20 rows\n",
      "\n"
     ]
    }
   ],
   "source": [
    "drop_df.show()"
   ]
  }
 ],
 "metadata": {
  "kernelspec": {
   "display_name": ".spark-env",
   "language": "python",
   "name": "python3"
  },
  "language_info": {
   "codemirror_mode": {
    "name": "ipython",
    "version": 3
   },
   "file_extension": ".py",
   "mimetype": "text/x-python",
   "name": "python",
   "nbconvert_exporter": "python",
   "pygments_lexer": "ipython3",
   "version": "3.8.18"
  }
 },
 "nbformat": 4,
 "nbformat_minor": 2
}
