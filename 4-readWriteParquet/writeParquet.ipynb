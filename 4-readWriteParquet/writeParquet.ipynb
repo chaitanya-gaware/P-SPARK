{
 "cells": [
  {
   "cell_type": "code",
   "execution_count": 25,
   "metadata": {},
   "outputs": [],
   "source": [
    "from pyspark.sql import SparkSession\n",
    "from pyspark.sql.types import StructType,StructField,StringType,IntegerType,FloatType\n"
   ]
  },
  {
   "cell_type": "code",
   "execution_count": 26,
   "metadata": {},
   "outputs": [],
   "source": [
    "spark = SparkSession.builder \\\n",
    "                .appName(\"ReadParquet\")\\\n",
    "                .master(\"local\") \\\n",
    "                .getOrCreate()\n",
    "                \n",
    "bad_records_path = \"/home/gson/GIT/P-SPARK/4-readWriteParquet\"\n",
    "opt = {\"inferschema\":True, \"mode\":\"dropmalformed\", \"header\":True, \"escape\":\"\\\"\", \"badRecordsPath\":\"bad_records_path\"}"
   ]
  },
  {
   "cell_type": "code",
   "execution_count": 27,
   "metadata": {},
   "outputs": [],
   "source": [
    "df = spark.read.format(\"csv\")\\\n",
    "            .options(**opt)\\\n",
    "            .load(\"currency.csv\")"
   ]
  },
  {
   "cell_type": "code",
   "execution_count": 28,
   "metadata": {},
   "outputs": [
    {
     "name": "stdout",
     "output_type": "stream",
     "text": [
      "+----+------+--------------------+-----+\n",
      "|Code|Symbol|                Name|value|\n",
      "+----+------+--------------------+-----+\n",
      "| AED|   د.إ|United Arab Emira...|   10|\n",
      "| ALL|     L|       Albanian, lek|   30|\n",
      "| AMD|   AMD|       Armenian dram|   40|\n",
      "| ANG|     ƒ|Netherlands Antil...|   50|\n",
      "| AOA|    Kz|      Angolan kwanza| NULL|\n",
      "| ARS|     $|      Argentine peso| NULL|\n",
      "| AUD|     $|   Australian dollar| NULL|\n",
      "| AWG|  Afl.|       Aruban florin| NULL|\n",
      "| AZN|   AZN|   Azerbaijani manat| NULL|\n",
      "| BAM|    KM|Bosnia and Herzeg...| NULL|\n",
      "| BBD|     $|    Barbadian dollar| NULL|\n",
      "| BDT|    ৳ |    Bangladeshi taka| NULL|\n",
      "| BGN|   лв.|       Bulgarian lev| NULL|\n",
      "| BHD|  .د.ب|      Bahraini dinar| NULL|\n",
      "| BIF|    Fr|     Burundian franc| NULL|\n",
      "| BMD|     $|    Bermudian dollar| NULL|\n",
      "| BND|     $|       Brunei dollar| NULL|\n",
      "| BOB|   Bs.|  Bolivian boliviano| NULL|\n",
      "| BRL|    R$|      Brazilian real| NULL|\n",
      "| BSD|     $|     Bahamian dollar| NULL|\n",
      "+----+------+--------------------+-----+\n",
      "only showing top 20 rows\n",
      "\n"
     ]
    }
   ],
   "source": [
    "df.show()"
   ]
  },
  {
   "cell_type": "code",
   "execution_count": 29,
   "metadata": {},
   "outputs": [
    {
     "name": "stdout",
     "output_type": "stream",
     "text": [
      "root\n",
      " |-- Code: string (nullable = true)\n",
      " |-- Symbol: string (nullable = true)\n",
      " |-- Name: string (nullable = true)\n",
      " |-- value: integer (nullable = true)\n",
      "\n"
     ]
    }
   ],
   "source": [
    "df.printSchema()"
   ]
  },
  {
   "cell_type": "code",
   "execution_count": 30,
   "metadata": {},
   "outputs": [],
   "source": [
    "corrupt_records = spark.read.text(bad_records_path)"
   ]
  },
  {
   "cell_type": "code",
   "execution_count": 31,
   "metadata": {},
   "outputs": [],
   "source": [
    "df.write.format(\"parquet\")\\\n",
    "        .mode(\"overwrite\")\\\n",
    "        .save(\"/home/gson/GIT/P-SPARK/4-readWriteParquet/save\")"
   ]
  },
  {
   "cell_type": "code",
   "execution_count": 32,
   "metadata": {},
   "outputs": [
    {
     "ename": "AnalysisException",
     "evalue": "[UNRESOLVED_COLUMN.WITH_SUGGESTION] A column or function parameter with name `_corrupt_record` cannot be resolved. Did you mean one of the following? [`Code`, `Symbol`, `Name`, `value`].",
     "output_type": "error",
     "traceback": [
      "\u001b[0;31m---------------------------------------------------------------------------\u001b[0m",
      "\u001b[0;31mAnalysisException\u001b[0m                         Traceback (most recent call last)",
      "\u001b[1;32m/home/gson/GIT/P-SPARK/4-readWriteParquet/writeParquet.ipynb Cell 8\u001b[0m line \u001b[0;36m1\n\u001b[0;32m----> <a href='vscode-notebook-cell:/home/gson/GIT/P-SPARK/4-readWriteParquet/writeParquet.ipynb#W6sZmlsZQ%3D%3D?line=0'>1</a>\u001b[0m df[\u001b[39m\"\u001b[39;49m\u001b[39m_corrupt_record\u001b[39;49m\u001b[39m\"\u001b[39;49m]\u001b[39m.\u001b[39mshow()\n",
      "File \u001b[0;32m~/GIT/.spark-venv/lib/python3.11/site-packages/pyspark/sql/dataframe.py:3074\u001b[0m, in \u001b[0;36mDataFrame.__getitem__\u001b[0;34m(self, item)\u001b[0m\n\u001b[1;32m   3002\u001b[0m \u001b[39m\u001b[39m\u001b[39m\"\"\"Returns the column as a :class:`Column`.\u001b[39;00m\n\u001b[1;32m   3003\u001b[0m \n\u001b[1;32m   3004\u001b[0m \u001b[39m.. versionadded:: 1.3.0\u001b[39;00m\n\u001b[0;32m   (...)\u001b[0m\n\u001b[1;32m   3071\u001b[0m \u001b[39m+---+----+\u001b[39;00m\n\u001b[1;32m   3072\u001b[0m \u001b[39m\"\"\"\u001b[39;00m\n\u001b[1;32m   3073\u001b[0m \u001b[39mif\u001b[39;00m \u001b[39misinstance\u001b[39m(item, \u001b[39mstr\u001b[39m):\n\u001b[0;32m-> 3074\u001b[0m     jc \u001b[39m=\u001b[39m \u001b[39mself\u001b[39;49m\u001b[39m.\u001b[39;49m_jdf\u001b[39m.\u001b[39;49mapply(item)\n\u001b[1;32m   3075\u001b[0m     \u001b[39mreturn\u001b[39;00m Column(jc)\n\u001b[1;32m   3076\u001b[0m \u001b[39melif\u001b[39;00m \u001b[39misinstance\u001b[39m(item, Column):\n",
      "File \u001b[0;32m~/GIT/.spark-venv/lib/python3.11/site-packages/py4j/java_gateway.py:1322\u001b[0m, in \u001b[0;36mJavaMember.__call__\u001b[0;34m(self, *args)\u001b[0m\n\u001b[1;32m   1316\u001b[0m command \u001b[39m=\u001b[39m proto\u001b[39m.\u001b[39mCALL_COMMAND_NAME \u001b[39m+\u001b[39m\\\n\u001b[1;32m   1317\u001b[0m     \u001b[39mself\u001b[39m\u001b[39m.\u001b[39mcommand_header \u001b[39m+\u001b[39m\\\n\u001b[1;32m   1318\u001b[0m     args_command \u001b[39m+\u001b[39m\\\n\u001b[1;32m   1319\u001b[0m     proto\u001b[39m.\u001b[39mEND_COMMAND_PART\n\u001b[1;32m   1321\u001b[0m answer \u001b[39m=\u001b[39m \u001b[39mself\u001b[39m\u001b[39m.\u001b[39mgateway_client\u001b[39m.\u001b[39msend_command(command)\n\u001b[0;32m-> 1322\u001b[0m return_value \u001b[39m=\u001b[39m get_return_value(\n\u001b[1;32m   1323\u001b[0m     answer, \u001b[39mself\u001b[39;49m\u001b[39m.\u001b[39;49mgateway_client, \u001b[39mself\u001b[39;49m\u001b[39m.\u001b[39;49mtarget_id, \u001b[39mself\u001b[39;49m\u001b[39m.\u001b[39;49mname)\n\u001b[1;32m   1325\u001b[0m \u001b[39mfor\u001b[39;00m temp_arg \u001b[39min\u001b[39;00m temp_args:\n\u001b[1;32m   1326\u001b[0m     \u001b[39mif\u001b[39;00m \u001b[39mhasattr\u001b[39m(temp_arg, \u001b[39m\"\u001b[39m\u001b[39m_detach\u001b[39m\u001b[39m\"\u001b[39m):\n",
      "File \u001b[0;32m~/GIT/.spark-venv/lib/python3.11/site-packages/pyspark/errors/exceptions/captured.py:185\u001b[0m, in \u001b[0;36mcapture_sql_exception.<locals>.deco\u001b[0;34m(*a, **kw)\u001b[0m\n\u001b[1;32m    181\u001b[0m converted \u001b[39m=\u001b[39m convert_exception(e\u001b[39m.\u001b[39mjava_exception)\n\u001b[1;32m    182\u001b[0m \u001b[39mif\u001b[39;00m \u001b[39mnot\u001b[39;00m \u001b[39misinstance\u001b[39m(converted, UnknownException):\n\u001b[1;32m    183\u001b[0m     \u001b[39m# Hide where the exception came from that shows a non-Pythonic\u001b[39;00m\n\u001b[1;32m    184\u001b[0m     \u001b[39m# JVM exception message.\u001b[39;00m\n\u001b[0;32m--> 185\u001b[0m     \u001b[39mraise\u001b[39;00m converted \u001b[39mfrom\u001b[39;00m \u001b[39mNone\u001b[39;00m\n\u001b[1;32m    186\u001b[0m \u001b[39melse\u001b[39;00m:\n\u001b[1;32m    187\u001b[0m     \u001b[39mraise\u001b[39;00m\n",
      "\u001b[0;31mAnalysisException\u001b[0m: [UNRESOLVED_COLUMN.WITH_SUGGESTION] A column or function parameter with name `_corrupt_record` cannot be resolved. Did you mean one of the following? [`Code`, `Symbol`, `Name`, `value`]."
     ]
    }
   ],
   "source": [
    "df[\"_corrupt_record\"].show()"
   ]
  }
 ],
 "metadata": {
  "kernelspec": {
   "display_name": ".spark-venv",
   "language": "python",
   "name": "python3"
  },
  "language_info": {
   "codemirror_mode": {
    "name": "ipython",
    "version": 3
   },
   "file_extension": ".py",
   "mimetype": "text/x-python",
   "name": "python",
   "nbconvert_exporter": "python",
   "pygments_lexer": "ipython3",
   "version": "3.11.2"
  }
 },
 "nbformat": 4,
 "nbformat_minor": 2
}
