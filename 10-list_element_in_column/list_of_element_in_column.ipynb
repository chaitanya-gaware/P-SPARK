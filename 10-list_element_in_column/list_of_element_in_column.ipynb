{
 "cells": [
  {
   "cell_type": "code",
   "execution_count": 2,
   "metadata": {},
   "outputs": [
    {
     "name": "stderr",
     "output_type": "stream",
     "text": [
      "24/03/29 11:13:27 WARN Utils: Your hostname, debian resolves to a loopback address: 127.0.1.1; using 192.168.1.25 instead (on interface wlp0s20f3)\n",
      "24/03/29 11:13:27 WARN Utils: Set SPARK_LOCAL_IP if you need to bind to another address\n",
      "24/03/29 11:13:28 WARN NativeCodeLoader: Unable to load native-hadoop library for your platform... using builtin-java classes where applicable\n",
      "Using Spark's default log4j profile: org/apache/spark/log4j-defaults.properties\n",
      "Setting default log level to \"WARN\".\n",
      "To adjust logging level use sc.setLogLevel(newLevel). For SparkR, use setLogLevel(newLevel).\n"
     ]
    }
   ],
   "source": [
    "from pyspark.sql import SparkSession\n",
    "from pyspark.sql.types import *\n",
    "from pyspark.sql.functions import *\n",
    "\n",
    "spark = SparkSession.builder\\\n",
    "                    .appName('movie')\\\n",
    "                    .master('local')\\\n",
    "                    .getOrCreate()"
   ]
  },
  {
   "cell_type": "code",
   "execution_count": 3,
   "metadata": {},
   "outputs": [
    {
     "name": "stderr",
     "output_type": "stream",
     "text": [
      "[Stage 0:>                                                          (0 + 1) / 1]\r"
     ]
    },
    {
     "name": "stdout",
     "output_type": "stream",
     "text": [
      "+------+---+------+----------+-------+---------------+\n",
      "|UserId|Age|Gender|Occupation|ZipCode|_corrupt_record|\n",
      "+------+---+------+----------+-------+---------------+\n",
      "|     1| 24|     M|technician|  85711|           null|\n",
      "|     2| 53|     F|     other|  94043|           null|\n",
      "|     3| 23|     M|    writer|  32067|           null|\n",
      "|     4| 24|     M|technician|  43537|           null|\n",
      "|     5| 33|     F|     other|  15213|           null|\n",
      "+------+---+------+----------+-------+---------------+\n",
      "only showing top 5 rows\n",
      "\n",
      "root\n",
      " |-- UserId: integer (nullable = true)\n",
      " |-- Age: integer (nullable = true)\n",
      " |-- Gender: string (nullable = true)\n",
      " |-- Occupation: string (nullable = true)\n",
      " |-- ZipCode: integer (nullable = true)\n",
      " |-- _corrupt_record: string (nullable = true)\n",
      "\n"
     ]
    },
    {
     "name": "stderr",
     "output_type": "stream",
     "text": [
      "                                                                                \r"
     ]
    }
   ],
   "source": [
    "\n",
    "#define the schema for u.user\n",
    "user_schema_field = [StructField('UserId', IntegerType(), True),\n",
    "                     StructField('Age', IntegerType(), True),\n",
    "                     StructField('Gender',StringType(), True),\n",
    "                     StructField('Occupation',StringType(),True),\n",
    "                     StructField('ZipCode', IntegerType(), True),\n",
    "                     StructField('_corrupt_record',StringType(), True)]\n",
    "\n",
    "user_schema = StructType(user_schema_field)\n",
    "\n",
    "u_opt= {'header':False, 'sep':'|', 'mode':'permissive'}\n",
    "user_df = spark.read.format('csv')\\\n",
    "                    .options(**u_opt)\\\n",
    "                    .schema(user_schema)\\\n",
    "                    .load('/home/chaitanya/GIT/P-SPARK/case_study1/u.user')\n",
    "\n",
    "user_df.show(5)                 \n",
    "user_df.printSchema()"
   ]
  },
  {
   "cell_type": "code",
   "execution_count": 4,
   "metadata": {},
   "outputs": [
    {
     "name": "stderr",
     "output_type": "stream",
     "text": [
      "                                                                                \r"
     ]
    },
    {
     "data": {
      "text/plain": [
       "['F', 'M']"
      ]
     },
     "execution_count": 4,
     "metadata": {},
     "output_type": "execute_result"
    }
   ],
   "source": [
    "user_df.select(\"Gender\").distinct().agg(collect_list(col(\"Gender\"))).first()[0]"
   ]
  },
  {
   "cell_type": "code",
   "execution_count": null,
   "metadata": {},
   "outputs": [],
   "source": []
  }
 ],
 "metadata": {
  "kernelspec": {
   "display_name": ".spark-env",
   "language": "python",
   "name": "python3"
  },
  "language_info": {
   "codemirror_mode": {
    "name": "ipython",
    "version": 3
   },
   "file_extension": ".py",
   "mimetype": "text/x-python",
   "name": "python",
   "nbconvert_exporter": "python",
   "pygments_lexer": "ipython3",
   "version": "3.8.18"
  }
 },
 "nbformat": 4,
 "nbformat_minor": 2
}
