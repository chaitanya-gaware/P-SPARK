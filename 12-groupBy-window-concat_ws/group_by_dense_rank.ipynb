{
 "cells": [
  {
   "cell_type": "code",
   "execution_count": 1,
   "metadata": {},
   "outputs": [],
   "source": [
    "from pyspark.sql import SparkSession\n",
    "from pyspark.sql.types import *\n",
    "from pyspark.sql.functions import *\n",
    "from pyspark.sql.window import Window"
   ]
  },
  {
   "cell_type": "code",
   "execution_count": 2,
   "metadata": {},
   "outputs": [
    {
     "name": "stderr",
     "output_type": "stream",
     "text": [
      "24/04/17 21:44:03 WARN Utils: Your hostname, debian resolves to a loopback address: 127.0.1.1; using 192.168.1.25 instead (on interface wlp0s20f3)\n",
      "24/04/17 21:44:03 WARN Utils: Set SPARK_LOCAL_IP if you need to bind to another address\n",
      "24/04/17 21:44:04 WARN NativeCodeLoader: Unable to load native-hadoop library for your platform... using builtin-java classes where applicable\n",
      "Using Spark's default log4j profile: org/apache/spark/log4j-defaults.properties\n",
      "Setting default log level to \"WARN\".\n",
      "To adjust logging level use sc.setLogLevel(newLevel). For SparkR, use setLogLevel(newLevel).\n"
     ]
    }
   ],
   "source": [
    "spark = SparkSession.builder\\\n",
    "                    .master(\"local\")\\\n",
    "                    .appName(\"group_window\")\\\n",
    "                    .getOrCreate()\n",
    "                    \n"
   ]
  },
  {
   "cell_type": "code",
   "execution_count": 3,
   "metadata": {},
   "outputs": [
    {
     "name": "stderr",
     "output_type": "stream",
     "text": [
      "                                                                                \r"
     ]
    },
    {
     "name": "stdout",
     "output_type": "stream",
     "text": [
      "+---+------------+------+-----------+\n",
      "| ID|Product Name| Price|Total Value|\n",
      "+---+------------+------+-----------+\n",
      "|  1|      Jacket|872.19|    7849.71|\n",
      "|  2|       Jeans|865.39|    1730.78|\n",
      "|  3|         Hat|183.11|     549.33|\n",
      "|  4|     Sweater|305.15|      610.3|\n",
      "|  5|         Hat| 84.59|      845.9|\n",
      "|  6|       Socks|191.72|    1533.76|\n",
      "|  7|      Jacket|696.02|     696.02|\n",
      "|  8|     Sweater|170.31|    1532.79|\n",
      "|  9|       Jeans|163.04|    1141.28|\n",
      "| 10|     Sweater| 990.3|     1980.6|\n",
      "| 11|     Sweater| 92.88|     743.04|\n",
      "| 12|       Shoes|306.33|    1531.65|\n",
      "| 13|       Shirt| 65.67|     197.01|\n",
      "| 14|      Jacket|555.63|    4445.04|\n",
      "| 15|       Jeans| 48.99|     342.93|\n",
      "| 16|      Jacket|323.87|    2590.96|\n",
      "| 17|      Jacket| 895.2|     8952.0|\n",
      "| 18|       Shoes|106.37|     531.85|\n",
      "| 19|         Hat|146.77|     880.62|\n",
      "| 20|       Socks|584.94|    5264.46|\n",
      "+---+------------+------+-----------+\n",
      "only showing top 20 rows\n",
      "\n"
     ]
    }
   ],
   "source": [
    "df = spark.read.format(\"csv\")\\\n",
    "                .option(\"header\",True)\\\n",
    "                .option(\"inferschema\",True)\\\n",
    "                .load(\"./sales_transactions.csv\")\n",
    "                \n",
    "df.show()"
   ]
  },
  {
   "cell_type": "code",
   "execution_count": 4,
   "metadata": {},
   "outputs": [
    {
     "name": "stderr",
     "output_type": "stream",
     "text": [
      "[Stage 4:====================================================>  (191 + 1) / 200]\r"
     ]
    },
    {
     "name": "stdout",
     "output_type": "stream",
     "text": [
      "+------------+------------------+\n",
      "|Product Name|       total_value|\n",
      "+------------+------------------+\n",
      "|      Jacket| 378274.5700000001|\n",
      "|       Jeans|362197.52999999985|\n",
      "|       Socks| 299744.8399999999|\n",
      "|       Dress| 299719.0699999999|\n",
      "|       Shirt| 274149.0500000001|\n",
      "|       Pants|         269397.16|\n",
      "|         Hat|251633.72999999995|\n",
      "|       Shoes|         248539.26|\n",
      "|     Sweater|246963.95000000004|\n",
      "|       Skirt|211751.48000000013|\n",
      "+------------+------------------+\n",
      "\n"
     ]
    },
    {
     "name": "stderr",
     "output_type": "stream",
     "text": [
      "                                                                                \r"
     ]
    }
   ],
   "source": [
    "df1 = df.groupBy(col('Product Name')).agg(sum(col(\"Total Value\")).alias(\"total_value\")).orderBy(desc(col(\"total_value\")))\n",
    "df1.show()"
   ]
  },
  {
   "cell_type": "code",
   "execution_count": 5,
   "metadata": {},
   "outputs": [],
   "source": [
    "# window_specs = Window.orderBy(col(\"total_value\"),desc())\n",
    "window_specs = Window.orderBy(desc(\"total_value\"))"
   ]
  },
  {
   "cell_type": "code",
   "execution_count": 6,
   "metadata": {},
   "outputs": [
    {
     "name": "stderr",
     "output_type": "stream",
     "text": [
      "24/04/17 21:44:22 WARN WindowExec: No Partition Defined for Window operation! Moving all data to a single partition, this can cause serious performance degradation.\n",
      "[Stage 8:==================================================>    (183 + 1) / 200]\r"
     ]
    },
    {
     "name": "stdout",
     "output_type": "stream",
     "text": [
      "+------------+------------------+----+\n",
      "|Product Name|       total_value|rank|\n",
      "+------------+------------------+----+\n",
      "|       Jeans|362197.52999999985|   2|\n",
      "|       Socks| 299744.8399999999|   3|\n",
      "|       Dress| 299719.0699999999|   4|\n",
      "|       Shirt| 274149.0500000001|   5|\n",
      "+------------+------------------+----+\n",
      "\n"
     ]
    },
    {
     "name": "stderr",
     "output_type": "stream",
     "text": [
      "                                                                                \r"
     ]
    }
   ],
   "source": [
    "window_specs = Window.orderBy(desc(\"total_value\"))\n",
    "df2 = df1.withColumn(\"rank\", dense_rank().over(window_specs))\n",
    "dff = df2.filter((col(\"rank\") < 6) & (col(\"rank\") > 1))\n",
    "dff.show()"
   ]
  },
  {
   "cell_type": "code",
   "execution_count": 7,
   "metadata": {},
   "outputs": [
    {
     "name": "stderr",
     "output_type": "stream",
     "text": [
      "24/04/17 21:44:26 WARN WindowExec: No Partition Defined for Window operation! Moving all data to a single partition, this can cause serious performance degradation.\n",
      "[Stage 14:=================================================>    (183 + 1) / 200]\r"
     ]
    },
    {
     "name": "stdout",
     "output_type": "stream",
     "text": [
      "+------------+-----------------+----+\n",
      "|Product Name|      total_value|rank|\n",
      "+------------+-----------------+----+\n",
      "|       Socks|299744.8399999999|   3|\n",
      "|       Dress|299719.0699999999|   4|\n",
      "|       Shirt|274149.0500000001|   5|\n",
      "+------------+-----------------+----+\n",
      "\n"
     ]
    },
    {
     "name": "stderr",
     "output_type": "stream",
     "text": [
      "                                                                                \r"
     ]
    }
   ],
   "source": [
    "df4 = df2.filter((col(\"rank\") < 6) & (col(\"rank\") > 2))\n",
    "df4.show()"
   ]
  },
  {
   "cell_type": "code",
   "execution_count": 8,
   "metadata": {},
   "outputs": [
    {
     "name": "stderr",
     "output_type": "stream",
     "text": [
      "24/04/17 21:44:29 WARN WindowExec: No Partition Defined for Window operation! Moving all data to a single partition, this can cause serious performance degradation.\n",
      "[Stage 20:====================================================> (196 + 2) / 200]\r"
     ]
    },
    {
     "name": "stdout",
     "output_type": "stream",
     "text": [
      "+------------+------------------+----+\n",
      "|Product Name|       total_value|rank|\n",
      "+------------+------------------+----+\n",
      "|      Jacket| 378274.5700000001|   1|\n",
      "|       Jeans|362197.52999999985|   2|\n",
      "|       Socks| 299744.8399999999|   3|\n",
      "|       Dress| 299719.0699999999|   4|\n",
      "|       Shirt| 274149.0500000001|   5|\n",
      "|       Pants|         269397.16|   6|\n",
      "|         Hat|251633.72999999995|   7|\n",
      "|       Shoes|         248539.26|   8|\n",
      "|     Sweater|246963.95000000004|   9|\n",
      "|       Skirt|211751.48000000013|  10|\n",
      "+------------+------------------+----+\n",
      "\n"
     ]
    },
    {
     "name": "stderr",
     "output_type": "stream",
     "text": [
      "                                                                                \r"
     ]
    }
   ],
   "source": [
    "window_specs = Window.orderBy(desc(\"total_value\"))\n",
    "df2 = df1.withColumn(\"rank\", dense_rank().over(window_specs))\n",
    "df2.show()\n"
   ]
  },
  {
   "cell_type": "code",
   "execution_count": 9,
   "metadata": {},
   "outputs": [
    {
     "name": "stdout",
     "output_type": "stream",
     "text": [
      "+---+------------+------+-----------+\n",
      "| ID|Product Name| Price|Total Value|\n",
      "+---+------------+------+-----------+\n",
      "|  1|      Jacket|872.19|    7849.71|\n",
      "|  2|       Jeans|865.39|    1730.78|\n",
      "|  3|         Hat|183.11|     549.33|\n",
      "|  4|     Sweater|305.15|      610.3|\n",
      "|  5|         Hat| 84.59|      845.9|\n",
      "|  6|       Socks|191.72|    1533.76|\n",
      "|  7|      Jacket|696.02|     696.02|\n",
      "|  8|     Sweater|170.31|    1532.79|\n",
      "|  9|       Jeans|163.04|    1141.28|\n",
      "| 10|     Sweater| 990.3|     1980.6|\n",
      "| 11|     Sweater| 92.88|     743.04|\n",
      "| 12|       Shoes|306.33|    1531.65|\n",
      "| 13|       Shirt| 65.67|     197.01|\n",
      "| 14|      Jacket|555.63|    4445.04|\n",
      "| 15|       Jeans| 48.99|     342.93|\n",
      "| 16|      Jacket|323.87|    2590.96|\n",
      "| 17|      Jacket| 895.2|     8952.0|\n",
      "| 18|       Shoes|106.37|     531.85|\n",
      "| 19|         Hat|146.77|     880.62|\n",
      "| 20|       Socks|584.94|    5264.46|\n",
      "+---+------------+------+-----------+\n",
      "only showing top 20 rows\n",
      "\n"
     ]
    }
   ],
   "source": [
    "df.show()"
   ]
  },
  {
   "cell_type": "code",
   "execution_count": 10,
   "metadata": {},
   "outputs": [
    {
     "name": "stdout",
     "output_type": "stream",
     "text": [
      "+---+------------+------+-----------+--------------+\n",
      "| ID|Product Name| Price|Total Value|          sale|\n",
      "+---+------------+------+-----------+--------------+\n",
      "|  1|      Jacket|872.19|    7849.71|872.19|7849.71|\n",
      "|  2|       Jeans|865.39|    1730.78|865.39|1730.78|\n",
      "|  3|         Hat|183.11|     549.33| 183.11|549.33|\n",
      "|  4|     Sweater|305.15|      610.3|  305.15|610.3|\n",
      "|  5|         Hat| 84.59|      845.9|   84.59|845.9|\n",
      "|  6|       Socks|191.72|    1533.76|191.72|1533.76|\n",
      "|  7|      Jacket|696.02|     696.02| 696.02|696.02|\n",
      "|  8|     Sweater|170.31|    1532.79|170.31|1532.79|\n",
      "|  9|       Jeans|163.04|    1141.28|163.04|1141.28|\n",
      "| 10|     Sweater| 990.3|     1980.6|  990.3|1980.6|\n",
      "| 11|     Sweater| 92.88|     743.04|  92.88|743.04|\n",
      "| 12|       Shoes|306.33|    1531.65|306.33|1531.65|\n",
      "| 13|       Shirt| 65.67|     197.01|  65.67|197.01|\n",
      "| 14|      Jacket|555.63|    4445.04|555.63|4445.04|\n",
      "| 15|       Jeans| 48.99|     342.93|  48.99|342.93|\n",
      "| 16|      Jacket|323.87|    2590.96|323.87|2590.96|\n",
      "| 17|      Jacket| 895.2|     8952.0|  895.2|8952.0|\n",
      "| 18|       Shoes|106.37|     531.85| 106.37|531.85|\n",
      "| 19|         Hat|146.77|     880.62| 146.77|880.62|\n",
      "| 20|       Socks|584.94|    5264.46|584.94|5264.46|\n",
      "+---+------------+------+-----------+--------------+\n",
      "only showing top 20 rows\n",
      "\n"
     ]
    }
   ],
   "source": [
    "df3 = df.withColumn(\"sale\", concat_ws(\"|\",col(\"Price\"),col(\"Total Value\")))\n",
    "df3.show()"
   ]
  },
  {
   "cell_type": "code",
   "execution_count": 13,
   "metadata": {},
   "outputs": [
    {
     "name": "stdout",
     "output_type": "stream",
     "text": [
      "+---+------------+-------+\n",
      "| ID|Product Name|    col|\n",
      "+---+------------+-------+\n",
      "|  1|      Jacket| 872.19|\n",
      "|  1|      Jacket|7849.71|\n",
      "|  2|       Jeans| 865.39|\n",
      "|  2|       Jeans|1730.78|\n",
      "|  3|         Hat| 183.11|\n",
      "|  3|         Hat| 549.33|\n",
      "|  4|     Sweater| 305.15|\n",
      "|  4|     Sweater|  610.3|\n",
      "|  5|         Hat|  84.59|\n",
      "|  5|         Hat|  845.9|\n",
      "|  6|       Socks| 191.72|\n",
      "|  6|       Socks|1533.76|\n",
      "|  7|      Jacket| 696.02|\n",
      "|  7|      Jacket| 696.02|\n",
      "|  8|     Sweater| 170.31|\n",
      "|  8|     Sweater|1532.79|\n",
      "|  9|       Jeans| 163.04|\n",
      "|  9|       Jeans|1141.28|\n",
      "| 10|     Sweater|  990.3|\n",
      "| 10|     Sweater| 1980.6|\n",
      "+---+------------+-------+\n",
      "only showing top 20 rows\n",
      "\n"
     ]
    }
   ],
   "source": [
    "df4 = df3.select(\"ID\",\"Product Name\", explode(split(col(\"sale\"), \"\\|\")))\n",
    "df4.show()"
   ]
  },
  {
   "cell_type": "code",
   "execution_count": 1,
   "metadata": {},
   "outputs": [
    {
     "ename": "NameError",
     "evalue": "name 'df4' is not defined",
     "output_type": "error",
     "traceback": [
      "\u001b[0;31m---------------------------------------------------------------------------\u001b[0m",
      "\u001b[0;31mNameError\u001b[0m                                 Traceback (most recent call last)",
      "Cell \u001b[0;32mIn[1], line 1\u001b[0m\n\u001b[0;32m----> 1\u001b[0m \u001b[43mdf4\u001b[49m\u001b[38;5;241m.\u001b[39mselect(\u001b[38;5;124m\"\u001b[39m\u001b[38;5;124mProduct Name\u001b[39m\u001b[38;5;124m\"\u001b[39m)\u001b[38;5;241m.\u001b[39mgroupBy(\u001b[38;5;124m\"\u001b[39m\u001b[38;5;124mID\u001b[39m\u001b[38;5;124m\"\u001b[39m)\u001b[38;5;241m.\u001b[39magg(collect_list(col(\u001b[38;5;124m\"\u001b[39m\u001b[38;5;124mcol\u001b[39m\u001b[38;5;124m\"\u001b[39m))\u001b[38;5;241m.\u001b[39malias(\u001b[38;5;124m\"\u001b[39m\u001b[38;5;124msale\u001b[39m\u001b[38;5;124m\"\u001b[39m))\u001b[38;5;241m.\u001b[39morderBy(\u001b[38;5;124m\"\u001b[39m\u001b[38;5;124mID\u001b[39m\u001b[38;5;124m\"\u001b[39m)\u001b[38;5;241m.\u001b[39mshow()\n",
      "\u001b[0;31mNameError\u001b[0m: name 'df4' is not defined"
     ]
    }
   ],
   "source": [
    "df4.select(\"Product Name\").groupBy(\"ID\").agg(collect_list(col(\"col\")).alias(\"sale\")).orderBy(\"ID\").show()"
   ]
  },
  {
   "cell_type": "code",
   "execution_count": 24,
   "metadata": {},
   "outputs": [
    {
     "name": "stderr",
     "output_type": "stream",
     "text": [
      "[Stage 41:=================================================>    (185 + 1) / 200]\r"
     ]
    },
    {
     "name": "stdout",
     "output_type": "stream",
     "text": [
      "+---+------------------+\n",
      "| ID|              sale|\n",
      "+---+------------------+\n",
      "|  1|  [Jacket, Jacket]|\n",
      "|  2|    [Jeans, Jeans]|\n",
      "|  3|        [Hat, Hat]|\n",
      "|  4|[Sweater, Sweater]|\n",
      "|  5|        [Hat, Hat]|\n",
      "|  6|    [Socks, Socks]|\n",
      "|  7|  [Jacket, Jacket]|\n",
      "|  8|[Sweater, Sweater]|\n",
      "|  9|    [Jeans, Jeans]|\n",
      "| 10|[Sweater, Sweater]|\n",
      "| 11|[Sweater, Sweater]|\n",
      "| 12|    [Shoes, Shoes]|\n",
      "| 13|    [Shirt, Shirt]|\n",
      "| 14|  [Jacket, Jacket]|\n",
      "| 15|    [Jeans, Jeans]|\n",
      "| 16|  [Jacket, Jacket]|\n",
      "| 17|  [Jacket, Jacket]|\n",
      "| 18|    [Shoes, Shoes]|\n",
      "| 19|        [Hat, Hat]|\n",
      "| 20|    [Socks, Socks]|\n",
      "+---+------------------+\n",
      "only showing top 20 rows\n",
      "\n"
     ]
    },
    {
     "name": "stderr",
     "output_type": "stream",
     "text": [
      "                                                                                \r"
     ]
    }
   ],
   "source": [
    "from pyspark.sql.functions import collect_list\n",
    "\n",
    "df4.groupBy(\"ID\").agg(collect_list(\"Product Name\").alias(\"sale\")).orderBy(\"ID\").show()\n"
   ]
  }
 ],
 "metadata": {
  "kernelspec": {
   "display_name": ".spark-env",
   "language": "python",
   "name": "python3"
  },
  "language_info": {
   "codemirror_mode": {
    "name": "ipython",
    "version": 3
   },
   "file_extension": ".py",
   "mimetype": "text/x-python",
   "name": "python",
   "nbconvert_exporter": "python",
   "pygments_lexer": "ipython3",
   "version": "3.8.18"
  }
 },
 "nbformat": 4,
 "nbformat_minor": 2
}
