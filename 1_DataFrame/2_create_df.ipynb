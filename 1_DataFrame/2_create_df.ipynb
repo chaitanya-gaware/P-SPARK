{
 "cells": [
  {
   "cell_type": "code",
   "execution_count": 3,
   "metadata": {},
   "outputs": [],
   "source": [
    "from pyspark.sql import SparkSession\n",
    "from pyspark.sql.types import StructType,StructField, StringType,IntegerType,FloatType"
   ]
  },
  {
   "cell_type": "code",
   "execution_count": 4,
   "metadata": {},
   "outputs": [
    {
     "name": "stderr",
     "output_type": "stream",
     "text": [
      "23/11/15 06:03:48 WARN Utils: Your hostname, chaitanya resolves to a loopback address: 127.0.1.1; using 192.168.1.12 instead (on interface wlp0s20f3)\n",
      "23/11/15 06:03:48 WARN Utils: Set SPARK_LOCAL_IP if you need to bind to another address\n",
      "Setting default log level to \"WARN\".\n",
      "To adjust logging level use sc.setLogLevel(newLevel). For SparkR, use setLogLevel(newLevel).\n",
      "23/11/15 06:03:49 WARN NativeCodeLoader: Unable to load native-hadoop library for your platform... using builtin-java classes where applicable\n",
      "23/11/15 06:03:49 WARN Utils: Service 'SparkUI' could not bind on port 4040. Attempting port 4041.\n"
     ]
    },
    {
     "name": "stderr",
     "output_type": "stream",
     "text": [
      "23/11/15 06:04:00 WARN GarbageCollectionMetrics: To enable non-built-in garbage collector(s) List(G1 Concurrent GC), users should configure it(them) to spark.eventLog.gcMetrics.youngGenerationGarbageCollectors or spark.eventLog.gcMetrics.oldGenerationGarbageCollectors\n"
     ]
    }
   ],
   "source": [
    "spark = SparkSession.builder \\\n",
    "                    .appName(\"df_creation2\") \\\n",
    "                    .getOrCreate()"
   ]
  },
  {
   "cell_type": "code",
   "execution_count": 6,
   "metadata": {},
   "outputs": [],
   "source": [
    "data = data = [\n",
    "    (1, 'John', 25, 85.5),\n",
    "    (2, 'Alice', 30, 92.3),\n",
    "    (3, 'Bob', 28, 78.9),\n",
    "    (4, 'Charlie', 22, 95.2),\n",
    "    (5, 'David', 35, 88.7),\n",
    "    (6, 'Emma', 29, 91.0),\n",
    "    (7, 'Frank', 32, 79.5),\n",
    "    (8, 'Grace', 26, 87.2),\n",
    "    (9, 'Helen', 31, 94.1),\n",
    "    (10, 'Ivan', 24, 82.8)\n",
    "]\n",
    "\n",
    "#schema creation for the above data\n",
    "schema_field = [StructField(\"id\", IntegerType(), True),\n",
    "                StructField(\"name\", StringType(), False),\n",
    "                StructField(\"age\", IntegerType(), False),\n",
    "                StructField(\"score\", FloatType(), True)]\n",
    "schema = StructType(schema_field)"
   ]
  },
  {
   "cell_type": "code",
   "execution_count": 7,
   "metadata": {},
   "outputs": [
    {
     "name": "stderr",
     "output_type": "stream",
     "text": [
      "                                                                                \r"
     ]
    },
    {
     "name": "stdout",
     "output_type": "stream",
     "text": [
      "+---+-------+---+-----+\n",
      "| id|   name|age|score|\n",
      "+---+-------+---+-----+\n",
      "|  1|   John| 25| 85.5|\n",
      "|  2|  Alice| 30| 92.3|\n",
      "|  3|    Bob| 28| 78.9|\n",
      "|  4|Charlie| 22| 95.2|\n",
      "|  5|  David| 35| 88.7|\n",
      "|  6|   Emma| 29| 91.0|\n",
      "|  7|  Frank| 32| 79.5|\n",
      "|  8|  Grace| 26| 87.2|\n",
      "|  9|  Helen| 31| 94.1|\n",
      "| 10|   Ivan| 24| 82.8|\n",
      "+---+-------+---+-----+\n",
      "\n",
      "root\n",
      " |-- id: integer (nullable = true)\n",
      " |-- name: string (nullable = false)\n",
      " |-- age: integer (nullable = false)\n",
      " |-- score: float (nullable = true)\n",
      "\n"
     ]
    }
   ],
   "source": [
    "df = spark.createDataFrame(data=data, schema=schema)\n",
    "df.show()\n",
    "df.printSchema()"
   ]
  }
 ],
 "metadata": {
  "kernelspec": {
   "display_name": ".spark-venv",
   "language": "python",
   "name": "python3"
  },
  "language_info": {
   "codemirror_mode": {
    "name": "ipython",
    "version": 3
   },
   "file_extension": ".py",
   "mimetype": "text/x-python",
   "name": "python",
   "nbconvert_exporter": "python",
   "pygments_lexer": "ipython3",
   "version": "3.11.2"
  }
 },
 "nbformat": 4,
 "nbformat_minor": 2
}
