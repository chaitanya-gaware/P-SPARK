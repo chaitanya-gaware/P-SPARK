{
 "cells": [
  {
   "cell_type": "code",
   "execution_count": 13,
   "metadata": {},
   "outputs": [],
   "source": [
    "from pyspark.sql import SparkSession\n",
    "from pyspark.sql.types import StructType,StructField,StringType,IntegerType,FloatType\n",
    "from pyspark.sql.functions import *"
   ]
  },
  {
   "cell_type": "code",
   "execution_count": 6,
   "metadata": {},
   "outputs": [],
   "source": [
    "spark = SparkSession.builder \\\n",
    "                .master(\"local\")\\\n",
    "                .appName(\"withColumn\")\\\n",
    "                .getOrCreate()\n",
    "schema_field = [StructField(\"code\",StringType(),True),\n",
    "                StructField(\"symbol\", StringType(),True),\n",
    "                StructField(\"Name\", StringType(),True),\n",
    "                StructField(\"value\",IntegerType(), True),\n",
    "                StructField(\"_corrupt_records\", StringType(), True)] \n",
    "schema = StructType(schema_field)\n",
    "# opt = {\"header\":True, \"escape\":\"\\\"\"}"
   ]
  },
  {
   "cell_type": "code",
   "execution_count": 9,
   "metadata": {},
   "outputs": [],
   "source": [
    "opt = {\"escape\": \"\\\"\", \"mode\":\"permissive\"}\n",
    "df = spark.read.format(\"csv\") \\\n",
    "    .option(\"header\", \"true\") \\\n",
    "    .options(**opt) \\\n",
    "    .schema(schema) \\\n",
    "    .load(\"currency.csv\")\n"
   ]
  },
  {
   "cell_type": "code",
   "execution_count": 10,
   "metadata": {},
   "outputs": [
    {
     "name": "stderr",
     "output_type": "stream",
     "text": [
      "23/11/23 01:10:24 WARN CSVHeaderChecker: Number of column in CSV header is not equal to number of fields in the schema:\n",
      " Header length: 4, schema size: 5\n",
      "CSV file: file:///home/gson/GIT/P-SPARK/5-withColumn/currency.csv\n"
     ]
    },
    {
     "name": "stdout",
     "output_type": "stream",
     "text": [
      "+----+------+--------------------+-----+----------------+\n",
      "|code|symbol|                Name|value|_corrupt_records|\n",
      "+----+------+--------------------+-----+----------------+\n",
      "| AED|   د.إ|United Arab Emira...|   10|            NULL|\n",
      "| AFN|     ؋|      Afghan afghani|   20|  corrupt_record|\n",
      "| ALL|     L|       Albanian, lek|   30|            NULL|\n",
      "| AMD|   AMD|       Armenian dram|   40|            NULL|\n",
      "| ANG|     ƒ|Netherlands Antil...|   50|            NULL|\n",
      "| AOA|    Kz|      Angolan kwanza| NULL|            NULL|\n",
      "| ARS|     $|      Argentine peso| NULL|            NULL|\n",
      "| AUD|     $|   Australian dollar| NULL|            NULL|\n",
      "| AWG|  Afl.|       Aruban florin| NULL|            NULL|\n",
      "| AZN|   AZN|   Azerbaijani manat| NULL|            NULL|\n",
      "| BAM|    KM|Bosnia and Herzeg...| NULL|            NULL|\n",
      "| BBD|     $|    Barbadian dollar| NULL|            NULL|\n",
      "| BDT|    ৳ |    Bangladeshi taka| NULL|            NULL|\n",
      "| BGN|   лв.|       Bulgarian lev| NULL|            NULL|\n",
      "| BHD|  .د.ب|      Bahraini dinar| NULL|            NULL|\n",
      "| BIF|    Fr|     Burundian franc| NULL|            NULL|\n",
      "| BMD|     $|    Bermudian dollar| NULL|            NULL|\n",
      "| BND|     $|       Brunei dollar| NULL|            NULL|\n",
      "| BOB|   Bs.|  Bolivian boliviano| NULL|            NULL|\n",
      "| BRL|    R$|      Brazilian real| NULL|            NULL|\n",
      "+----+------+--------------------+-----+----------------+\n",
      "only showing top 20 rows\n",
      "\n"
     ]
    }
   ],
   "source": [
    "df.show()"
   ]
  },
  {
   "cell_type": "code",
   "execution_count": 17,
   "metadata": {},
   "outputs": [
    {
     "name": "stdout",
     "output_type": "stream",
     "text": [
      "+----+------+--------------------+-----+----------------+\n",
      "|code|symbol|                Name|value|_corrupt_records|\n",
      "+----+------+--------------------+-----+----------------+\n",
      "| AED|     2|United Arab Emira...|   10|            NULL|\n",
      "| AFN|     2|      Afghan afghani|   20|  corrupt_record|\n",
      "| ALL|     2|       Albanian, lek|   30|            NULL|\n",
      "| AMD|     2|       Armenian dram|   40|            NULL|\n",
      "| ANG|     2|Netherlands Antil...|   50|            NULL|\n",
      "| AOA|     2|      Angolan kwanza| NULL|            NULL|\n",
      "| ARS|     2|      Argentine peso| NULL|            NULL|\n",
      "| AUD|     2|   Australian dollar| NULL|            NULL|\n",
      "| AWG|     2|       Aruban florin| NULL|            NULL|\n",
      "| AZN|     2|   Azerbaijani manat| NULL|            NULL|\n",
      "| BAM|     2|Bosnia and Herzeg...| NULL|            NULL|\n",
      "| BBD|     2|    Barbadian dollar| NULL|            NULL|\n",
      "| BDT|     2|    Bangladeshi taka| NULL|            NULL|\n",
      "| BGN|     2|       Bulgarian lev| NULL|            NULL|\n",
      "| BHD|     2|      Bahraini dinar| NULL|            NULL|\n",
      "| BIF|     2|     Burundian franc| NULL|            NULL|\n",
      "| BMD|     2|    Bermudian dollar| NULL|            NULL|\n",
      "| BND|     2|       Brunei dollar| NULL|            NULL|\n",
      "| BOB|     2|  Bolivian boliviano| NULL|            NULL|\n",
      "| BRL|     2|      Brazilian real| NULL|            NULL|\n",
      "+----+------+--------------------+-----+----------------+\n",
      "only showing top 20 rows\n",
      "\n"
     ]
    },
    {
     "name": "stderr",
     "output_type": "stream",
     "text": [
      "23/11/23 01:16:32 WARN CSVHeaderChecker: CSV header does not conform to the schema.\n",
      " Header: Code, Name, value, \n",
      " Schema: code, Name, value, _corrupt_records\n",
      "Expected: _corrupt_records but found: \n",
      "CSV file: file:///home/gson/GIT/P-SPARK/5-withColumn/currency.csv\n"
     ]
    }
   ],
   "source": [
    "df.withColumn(\"symbol\", lit(2)).show() #updating the existing column in new datframe"
   ]
  },
  {
   "cell_type": "code",
   "execution_count": 16,
   "metadata": {},
   "outputs": [
    {
     "name": "stdout",
     "output_type": "stream",
     "text": [
      "+----+------+--------------------+-----+----------------+\n",
      "|code|symbol|                Name|value|_corrupt_records|\n",
      "+----+------+--------------------+-----+----------------+\n",
      "| AED|   د.إ|United Arab Emira...|   10|            NULL|\n",
      "| AFN|     ؋|      Afghan afghani|   20|  corrupt_record|\n",
      "| ALL|     L|       Albanian, lek|   30|            NULL|\n",
      "| AMD|   AMD|       Armenian dram|   40|            NULL|\n",
      "| ANG|     ƒ|Netherlands Antil...|   50|            NULL|\n",
      "| AOA|    Kz|      Angolan kwanza| NULL|            NULL|\n",
      "| ARS|     $|      Argentine peso| NULL|            NULL|\n",
      "| AUD|     $|   Australian dollar| NULL|            NULL|\n",
      "| AWG|  Afl.|       Aruban florin| NULL|            NULL|\n",
      "| AZN|   AZN|   Azerbaijani manat| NULL|            NULL|\n",
      "| BAM|    KM|Bosnia and Herzeg...| NULL|            NULL|\n",
      "| BBD|     $|    Barbadian dollar| NULL|            NULL|\n",
      "| BDT|    ৳ |    Bangladeshi taka| NULL|            NULL|\n",
      "| BGN|   лв.|       Bulgarian lev| NULL|            NULL|\n",
      "| BHD|  .د.ب|      Bahraini dinar| NULL|            NULL|\n",
      "| BIF|    Fr|     Burundian franc| NULL|            NULL|\n",
      "| BMD|     $|    Bermudian dollar| NULL|            NULL|\n",
      "| BND|     $|       Brunei dollar| NULL|            NULL|\n",
      "| BOB|   Bs.|  Bolivian boliviano| NULL|            NULL|\n",
      "| BRL|    R$|      Brazilian real| NULL|            NULL|\n",
      "+----+------+--------------------+-----+----------------+\n",
      "only showing top 20 rows\n",
      "\n"
     ]
    },
    {
     "name": "stderr",
     "output_type": "stream",
     "text": [
      "23/11/23 01:16:11 WARN CSVHeaderChecker: Number of column in CSV header is not equal to number of fields in the schema:\n",
      " Header length: 4, schema size: 5\n",
      "CSV file: file:///home/gson/GIT/P-SPARK/5-withColumn/currency.csv\n"
     ]
    }
   ],
   "source": [
    "df.show()"
   ]
  }
 ],
 "metadata": {
  "kernelspec": {
   "display_name": ".spark-venv",
   "language": "python",
   "name": "python3"
  },
  "language_info": {
   "codemirror_mode": {
    "name": "ipython",
    "version": 3
   },
   "file_extension": ".py",
   "mimetype": "text/x-python",
   "name": "python",
   "nbconvert_exporter": "python",
   "pygments_lexer": "ipython3",
   "version": "3.11.2"
  }
 },
 "nbformat": 4,
 "nbformat_minor": 2
}
