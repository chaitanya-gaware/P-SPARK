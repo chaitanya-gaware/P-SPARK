{
 "cells": [
  {
   "cell_type": "code",
   "execution_count": 1,
   "metadata": {},
   "outputs": [],
   "source": [
    "from pyspark.sql import SparkSession\n",
    "from pyspark.sql.types import StructType,StructField,StringType,IntegerType,FloatType\n",
    "from pyspark.sql.functions import *"
   ]
  },
  {
   "cell_type": "code",
   "execution_count": 2,
   "metadata": {},
   "outputs": [
    {
     "name": "stderr",
     "output_type": "stream",
     "text": [
      "24/03/15 14:47:53 WARN Utils: Your hostname, debian resolves to a loopback address: 127.0.1.1; using 192.168.1.38 instead (on interface wlp0s20f3)\n",
      "24/03/15 14:47:53 WARN Utils: Set SPARK_LOCAL_IP if you need to bind to another address\n",
      "24/03/15 14:47:54 WARN NativeCodeLoader: Unable to load native-hadoop library for your platform... using builtin-java classes where applicable\n",
      "Using Spark's default log4j profile: org/apache/spark/log4j-defaults.properties\n",
      "Setting default log level to \"WARN\".\n",
      "To adjust logging level use sc.setLogLevel(newLevel). For SparkR, use setLogLevel(newLevel).\n"
     ]
    }
   ],
   "source": [
    "spark = SparkSession.builder \\\n",
    "                .master(\"local\")\\\n",
    "                .appName(\"withColumn\")\\\n",
    "                .getOrCreate()\n",
    "schema_field = [StructField(\"code\",StringType(),True),\n",
    "                StructField(\"symbol\", StringType(),True),\n",
    "                StructField(\"Name\", StringType(),True),\n",
    "                StructField(\"value\",IntegerType(), True),\n",
    "                StructField(\"_corrupt_records\", StringType(), True)] \n",
    "schema = StructType(schema_field)\n",
    "# opt = {\"header\":True, \"escape\":\"\\\"\"}"
   ]
  },
  {
   "cell_type": "code",
   "execution_count": 3,
   "metadata": {},
   "outputs": [],
   "source": [
    "opt = {\"escape\": \"\\\"\", \"mode\":\"permissive\"}\n",
    "df = spark.read.format(\"csv\") \\\n",
    "    .option(\"header\", \"true\") \\\n",
    "    .options(**opt) \\\n",
    "    .schema(schema) \\\n",
    "    .load(\"currency.csv\")\n"
   ]
  },
  {
   "cell_type": "code",
   "execution_count": 4,
   "metadata": {},
   "outputs": [
    {
     "name": "stderr",
     "output_type": "stream",
     "text": [
      "[Stage 0:>                                                          (0 + 1) / 1]\r"
     ]
    },
    {
     "name": "stdout",
     "output_type": "stream",
     "text": [
      "+----+------+--------------------+-----+----------------+\n",
      "|code|symbol|                Name|value|_corrupt_records|\n",
      "+----+------+--------------------+-----+----------------+\n",
      "| AED|   د.إ|United Arab Emira...|   10|            null|\n",
      "| AFN|     ؋|      Afghan afghani|   20|  corrupt_record|\n",
      "| ALL|     L|       Albanian, lek|   30|            null|\n",
      "| AMD|   AMD|       Armenian dram|   40|            null|\n",
      "| ANG|     ƒ|Netherlands Antil...|   50|            null|\n",
      "| AOA|    Kz|      Angolan kwanza| null|            null|\n",
      "| ARS|     $|      Argentine peso| null|            null|\n",
      "| AUD|     $|   Australian dollar| null|            null|\n",
      "| AWG|  Afl.|       Aruban florin| null|            null|\n",
      "| AZN|   AZN|   Azerbaijani manat| null|            null|\n",
      "| BAM|    KM|Bosnia and Herzeg...| null|            null|\n",
      "| BBD|     $|    Barbadian dollar| null|            null|\n",
      "| BDT|    ৳ |    Bangladeshi taka| null|            null|\n",
      "| BGN|   лв.|       Bulgarian lev| null|            null|\n",
      "| BHD|  .د.ب|      Bahraini dinar| null|            null|\n",
      "| BIF|    Fr|     Burundian franc| null|            null|\n",
      "| BMD|     $|    Bermudian dollar| null|            null|\n",
      "| BND|     $|       Brunei dollar| null|            null|\n",
      "| BOB|   Bs.|  Bolivian boliviano| null|            null|\n",
      "| BRL|    R$|      Brazilian real| null|            null|\n",
      "+----+------+--------------------+-----+----------------+\n",
      "only showing top 20 rows\n",
      "\n"
     ]
    },
    {
     "name": "stderr",
     "output_type": "stream",
     "text": [
      "24/03/15 14:48:29 WARN CSVHeaderChecker: Number of column in CSV header is not equal to number of fields in the schema:\n",
      " Header length: 4, schema size: 5\n",
      "CSV file: file:///home/chaitanya/GIT/P-SPARK/5-withColumn/currency.csv\n",
      "                                                                                \r"
     ]
    }
   ],
   "source": [
    "df.show()"
   ]
  },
  {
   "cell_type": "code",
   "execution_count": 8,
   "metadata": {},
   "outputs": [
    {
     "name": "stdout",
     "output_type": "stream",
     "text": [
      "+----+------+--------------------+-----+----------------+-------+\n",
      "|code|symbol|                Name|value|_corrupt_records|symbols|\n",
      "+----+------+--------------------+-----+----------------+-------+\n",
      "| AED|   د.إ|United Arab Emira...|   10|            null|      2|\n",
      "| AFN|     ؋|      Afghan afghani|   20|  corrupt_record|      2|\n",
      "| ALL|     L|       Albanian, lek|   30|            null|      2|\n",
      "| AMD|   AMD|       Armenian dram|   40|            null|      2|\n",
      "| ANG|     ƒ|Netherlands Antil...|   50|            null|      2|\n",
      "| AOA|    Kz|      Angolan kwanza| null|            null|      2|\n",
      "| ARS|     $|      Argentine peso| null|            null|      2|\n",
      "| AUD|     $|   Australian dollar| null|            null|      2|\n",
      "| AWG|  Afl.|       Aruban florin| null|            null|      2|\n",
      "| AZN|   AZN|   Azerbaijani manat| null|            null|      2|\n",
      "| BAM|    KM|Bosnia and Herzeg...| null|            null|      2|\n",
      "| BBD|     $|    Barbadian dollar| null|            null|      2|\n",
      "| BDT|    ৳ |    Bangladeshi taka| null|            null|      2|\n",
      "| BGN|   лв.|       Bulgarian lev| null|            null|      2|\n",
      "| BHD|  .د.ب|      Bahraini dinar| null|            null|      2|\n",
      "| BIF|    Fr|     Burundian franc| null|            null|      2|\n",
      "| BMD|     $|    Bermudian dollar| null|            null|      2|\n",
      "| BND|     $|       Brunei dollar| null|            null|      2|\n",
      "| BOB|   Bs.|  Bolivian boliviano| null|            null|      2|\n",
      "| BRL|    R$|      Brazilian real| null|            null|      2|\n",
      "+----+------+--------------------+-----+----------------+-------+\n",
      "only showing top 20 rows\n",
      "\n"
     ]
    },
    {
     "name": "stderr",
     "output_type": "stream",
     "text": [
      "24/03/15 14:51:19 WARN CSVHeaderChecker: Number of column in CSV header is not equal to number of fields in the schema:\n",
      " Header length: 4, schema size: 5\n",
      "CSV file: file:///home/chaitanya/GIT/P-SPARK/5-withColumn/currency.csv\n"
     ]
    }
   ],
   "source": [
    "df.withColumn(\"symbols\", lit(2)).show() #updating the existing column in new datframe"
   ]
  },
  {
   "cell_type": "code",
   "execution_count": 16,
   "metadata": {},
   "outputs": [
    {
     "name": "stdout",
     "output_type": "stream",
     "text": [
      "+----+------+--------------------+-----+----------------+\n",
      "|code|symbol|                Name|value|_corrupt_records|\n",
      "+----+------+--------------------+-----+----------------+\n",
      "| AED|   د.إ|United Arab Emira...|   10|            NULL|\n",
      "| AFN|     ؋|      Afghan afghani|   20|  corrupt_record|\n",
      "| ALL|     L|       Albanian, lek|   30|            NULL|\n",
      "| AMD|   AMD|       Armenian dram|   40|            NULL|\n",
      "| ANG|     ƒ|Netherlands Antil...|   50|            NULL|\n",
      "| AOA|    Kz|      Angolan kwanza| NULL|            NULL|\n",
      "| ARS|     $|      Argentine peso| NULL|            NULL|\n",
      "| AUD|     $|   Australian dollar| NULL|            NULL|\n",
      "| AWG|  Afl.|       Aruban florin| NULL|            NULL|\n",
      "| AZN|   AZN|   Azerbaijani manat| NULL|            NULL|\n",
      "| BAM|    KM|Bosnia and Herzeg...| NULL|            NULL|\n",
      "| BBD|     $|    Barbadian dollar| NULL|            NULL|\n",
      "| BDT|    ৳ |    Bangladeshi taka| NULL|            NULL|\n",
      "| BGN|   лв.|       Bulgarian lev| NULL|            NULL|\n",
      "| BHD|  .د.ب|      Bahraini dinar| NULL|            NULL|\n",
      "| BIF|    Fr|     Burundian franc| NULL|            NULL|\n",
      "| BMD|     $|    Bermudian dollar| NULL|            NULL|\n",
      "| BND|     $|       Brunei dollar| NULL|            NULL|\n",
      "| BOB|   Bs.|  Bolivian boliviano| NULL|            NULL|\n",
      "| BRL|    R$|      Brazilian real| NULL|            NULL|\n",
      "+----+------+--------------------+-----+----------------+\n",
      "only showing top 20 rows\n",
      "\n"
     ]
    },
    {
     "name": "stderr",
     "output_type": "stream",
     "text": [
      "23/11/23 01:16:11 WARN CSVHeaderChecker: Number of column in CSV header is not equal to number of fields in the schema:\n",
      " Header length: 4, schema size: 5\n",
      "CSV file: file:///home/gson/GIT/P-SPARK/5-withColumn/currency.csv\n"
     ]
    }
   ],
   "source": [
    "df.show()"
   ]
  }
 ],
 "metadata": {
  "kernelspec": {
   "display_name": ".spark-venv",
   "language": "python",
   "name": "python3"
  },
  "language_info": {
   "codemirror_mode": {
    "name": "ipython",
    "version": 3
   },
   "file_extension": ".py",
   "mimetype": "text/x-python",
   "name": "python",
   "nbconvert_exporter": "python",
   "pygments_lexer": "ipython3",
   "version": "3.8.18"
  }
 },
 "nbformat": 4,
 "nbformat_minor": 2
}
