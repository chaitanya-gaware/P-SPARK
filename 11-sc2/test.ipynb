{
 "cells": [
  {
   "cell_type": "code",
   "execution_count": 26,
   "metadata": {},
   "outputs": [
    {
     "name": "stdout",
     "output_type": "stream",
     "text": [
      "+---+---------+-------------+---------+----+-------+--------------+\n",
      "| ID|     Name|Creation_Date|Is_Active| ID1|  Name1|Creation_Date1|\n",
      "+---+---------+-------------+---------+----+-------+--------------+\n",
      "|  1|     John|   2023-05-10|        1|   1|   John|    2024-04-10|\n",
      "|  2|    Alice|   2022-08-20|        0|   2|  Alice|    2024-04-10|\n",
      "|  3|  Michael|   2022-12-15|        1|   3|Michael|    2024-04-10|\n",
      "|  4|    Emily|   2023-02-28|        1|   4|  Emily|    2024-04-10|\n",
      "|  5|    David|   2023-04-05|        0|   5|  David|    2024-04-10|\n",
      "|  6|    Sarah|   2022-10-30|        1|   6|  Sarah|    2024-04-10|\n",
      "|  7|    James|   2023-01-18|        0|   7|  James|    2024-04-10|\n",
      "|  8|   Sophia|   2023-03-22|        1|   8| Sophia|    2024-04-10|\n",
      "|  9|    Ethan|   2022-11-05|        0|null|   null|          null|\n",
      "| 10|     Emma|   2023-06-08|        1|null|   null|          null|\n",
      "| 11|     Liam|   2023-09-14|        0|null|   null|          null|\n",
      "| 12|   Olivia|   2023-10-25|        1|null|   null|          null|\n",
      "| 13|     Noah|   2023-12-01|        1|null|   null|          null|\n",
      "| 14|      Ava|   2023-07-03|        0|null|   null|          null|\n",
      "| 15|  William|   2023-08-11|        1|null|   null|          null|\n",
      "| 16| Isabella|   2023-11-19|        1|null|   null|          null|\n",
      "| 17|    James|   2022-09-22|        0|null|   null|          null|\n",
      "| 18|    Grace|   2022-10-01|        1|null|   null|          null|\n",
      "| 19|Alexander|   2022-12-10|        0|null|   null|          null|\n",
      "| 20|   Sophie|   2023-02-18|        1|null|   null|          null|\n",
      "+---+---------+-------------+---------+----+-------+--------------+\n",
      "only showing top 20 rows\n",
      "\n"
     ]
    }
   ],
   "source": [
    "# from pyspark.sql import SparkSession\n",
    "# from pyspark.sql.types import *\n",
    "# from pyspark.sql.functions import *\n",
    "\n",
    "# spark = SparkSession.builder.appName(\"scd2\").getOrCreate()\n",
    "\n",
    "# df = spark.read.format(\"csv\").option(\"mode\",\"permissive\").option(\"header\",True).load(\"data.csv\") \n",
    "# df.show()\n",
    "\n",
    "# update_df = spark.read.format(\"csv\").option(\"mode\",\"permissive\").option(\"header\",True).load(\"data_update.csv\") \n",
    "# update_df.show()\n",
    "# joining_df = df.join(update_df, col(\"df.ID\") == col(\"update_df.ID\"), how=\"left\")\n",
    "# joining_df.show()\n",
    "\n",
    "\n",
    "from pyspark.sql import SparkSession\n",
    "from pyspark.sql.types import *\n",
    "from pyspark.sql.functions import *\n",
    "\n",
    "spark = SparkSession.builder.appName(\"scd2\").getOrCreate()\n",
    "\n",
    "# Load DataFrames\n",
    "df = spark.read.format(\"csv\").option(\"mode\", \"permissive\").option(\"header\", True).load(\"data.csv\")\n",
    "update_df = spark.read.format(\"csv\").option(\"mode\", \"permissive\").option(\"header\", True).load(\"data_update.csv\")\n",
    "\n",
    "# Perform left join with correct join condition\n",
    "joining_df = df.alias(\"d\").join(update_df.alias(\"u\"), col(\"d.ID\") == col(\"u.ID1\"), how=\"left\")\n",
    "joining_df.show()\n"
   ]
  },
  {
   "cell_type": "code",
   "execution_count": 32,
   "metadata": {},
   "outputs": [
    {
     "name": "stdout",
     "output_type": "stream",
     "text": [
      "+---+-------+-------------+---------+\n",
      "| ID|   Name|Creation_Date|Is_Active|\n",
      "+---+-------+-------------+---------+\n",
      "|  1|   John|   2024-04-10|        1|\n",
      "|  3|Michael|   2024-04-10|        1|\n",
      "|  4|  Emily|   2024-04-10|        1|\n",
      "|  6|  Sarah|   2024-04-10|        1|\n",
      "|  8| Sophia|   2024-04-10|        1|\n",
      "+---+-------+-------------+---------+\n",
      "\n"
     ]
    }
   ],
   "source": [
    "new_record_df = joining_df.filter((col(\"Creation_Date\") != col(\"Creation_Date1\")) & (col(\"Is_Active\") == 1))\\\n",
    "                            .withColumn(\"Is_Active\", lit(1))\\\n",
    "                            .withColumn(\"Creation_Date\",col(\"Creation_Date1\"))\\\n",
    "                            .withColumn(\"Creation_Date1\", lit(None))\\\n",
    "                            .select(\"ID\",\"Name\",\"Creation_Date\",\"Is_Active\")\n",
    "new_record_df.show()"
   ]
  },
  {
   "cell_type": "code",
   "execution_count": 34,
   "metadata": {},
   "outputs": [
    {
     "name": "stdout",
     "output_type": "stream",
     "text": [
      "+---+-----+--------------+\n",
      "|ID1|Name1|Creation_Date1|\n",
      "+---+-----+--------------+\n",
      "|200|radha|    2024-04-10|\n",
      "+---+-----+--------------+\n",
      "\n"
     ]
    }
   ],
   "source": [
    "add_record_df = update_df.alias(\"u\").join(df.alias(\"d\"), col(\"u.ID1\") == col(\"d.ID\"), \"left_anti\")\n",
    "add_record_df.show()"
   ]
  },
  {
   "cell_type": "code",
   "execution_count": 4,
   "metadata": {},
   "outputs": [
    {
     "name": "stdout",
     "output_type": "stream",
     "text": [
      "+---+-------+-------------+\n",
      "| ID|   Name|Creation_Date|\n",
      "+---+-------+-------------+\n",
      "|  1|   John|   2024-04-10|\n",
      "|  2|  Alice|   2024-04-10|\n",
      "|  3|Michael|   2024-04-10|\n",
      "|  4|  Emily|   2024-04-10|\n",
      "|  5|  David|   2024-04-10|\n",
      "|  6|  Sarah|   2024-04-10|\n",
      "|  7|  James|   2024-04-10|\n",
      "|  8| Sophia|   2024-04-10|\n",
      "|  9|  Ethan|   2024-04-10|\n",
      "+---+-------+-------------+\n",
      "\n"
     ]
    }
   ],
   "source": []
  },
  {
   "cell_type": "code",
   "execution_count": 31,
   "metadata": {},
   "outputs": [
    {
     "name": "stdout",
     "output_type": "stream",
     "text": [
      "dog making sound\n"
     ]
    }
   ],
   "source": [
    "class Animal:\n",
    "    def sound(self):\n",
    "        print(\"making sound\")\n",
    "        \n",
    "class parrot():\n",
    "    def sound(self):\n",
    "        print(\" parrot making sound\")\n",
    "        \n",
    "class Dog():\n",
    "    def sound(self):\n",
    "        print(\"dog making sound\")\n",
    "        \n",
    "class Cat(Dog, parrot):\n",
    "    def sound(self):\n",
    "        super().sound()  # Call sound() method of Dog class\n",
    "        # super(Dog, self).sound()  # Call sound() method of Animal class\n",
    "        # print(\"cat making sound\")\n",
    "        \n",
    "pet1 = Dog()\n",
    "cat1 = Cat()\n",
    "\n",
    "cat1.sound()\n"
   ]
  },
  {
   "cell_type": "code",
   "execution_count": 1,
   "metadata": {},
   "outputs": [
    {
     "name": "stdout",
     "output_type": "stream",
     "text": [
      "dog making sound\n",
      "parrot making sound\n",
      "parrot making sound\n"
     ]
    }
   ],
   "source": [
    "class Animal:\n",
    "    def sound(self):\n",
    "        print(\"making sound\")\n",
    "        \n",
    "class parrot(Animal):\n",
    "    def sound(self):\n",
    "        print(\"parrot making sound\")\n",
    "        \n",
    "class Dog(Animal):\n",
    "    def sound(self):\n",
    "        print(\"dog making sound\")\n",
    "        \n",
    "class Cat(Dog, parrot):\n",
    "    def sound(self):\n",
    "        Dog().sound()  # Call sound() method of Dog class\n",
    "        parrot().sound()  # Call sound() method of parrot class\n",
    "        super(Dog, self).sound()\n",
    "\n",
    "pet1 = Dog()\n",
    "cat1 = Cat()\n",
    "\n",
    "cat1.sound()\n"
   ]
  },
  {
   "cell_type": "code",
   "execution_count": 25,
   "metadata": {},
   "outputs": [
    {
     "name": "stdout",
     "output_type": "stream",
     "text": [
      "9\n",
      "8\n",
      "7\n",
      "6\n",
      "5\n",
      "4\n",
      "3\n",
      "2\n",
      "1\n",
      "0\n"
     ]
    }
   ],
   "source": []
  },
  {
   "cell_type": "code",
   "execution_count": null,
   "metadata": {},
   "outputs": [],
   "source": []
  },
  {
   "cell_type": "code",
   "execution_count": 4,
   "metadata": {},
   "outputs": [
    {
     "name": "stdout",
     "output_type": "stream",
     "text": [
      "False\n"
     ]
    }
   ],
   "source": []
  }
 ],
 "metadata": {
  "kernelspec": {
   "display_name": ".spark-env",
   "language": "python",
   "name": "python3"
  },
  "language_info": {
   "codemirror_mode": {
    "name": "ipython",
    "version": 3
   },
   "file_extension": ".py",
   "mimetype": "text/x-python",
   "name": "python",
   "nbconvert_exporter": "python",
   "pygments_lexer": "ipython3",
   "version": "3.8.18"
  }
 },
 "nbformat": 4,
 "nbformat_minor": 2
}
