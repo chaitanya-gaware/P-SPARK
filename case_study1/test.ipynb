{
 "cells": [
  {
   "cell_type": "code",
   "execution_count": 1,
   "metadata": {},
   "outputs": [
    {
     "name": "stderr",
     "output_type": "stream",
     "text": [
      "23/12/10 10:06:58 WARN Utils: Your hostname, debian resolves to a loopback address: 127.0.1.1; using 192.168.1.18 instead (on interface wlp0s20f3)\n",
      "23/12/10 10:06:58 WARN Utils: Set SPARK_LOCAL_IP if you need to bind to another address\n",
      "23/12/10 10:06:58 WARN NativeCodeLoader: Unable to load native-hadoop library for your platform... using builtin-java classes where applicable\n",
      "Using Spark's default log4j profile: org/apache/spark/log4j-defaults.properties\n",
      "Setting default log level to \"WARN\".\n",
      "To adjust logging level use sc.setLogLevel(newLevel). For SparkR, use setLogLevel(newLevel).\n"
     ]
    }
   ],
   "source": [
    "from pyspark.sql import SparkSession\n",
    "from pyspark.sql.types import *\n",
    "from pyspark.sql.functions import *\n",
    "\n",
    "spark = SparkSession.builder\\\n",
    "                    .appName('movie')\\\n",
    "                    .master('local')\\\n",
    "                    .getOrCreate()"
   ]
  },
  {
   "cell_type": "code",
   "execution_count": 3,
   "metadata": {},
   "outputs": [
    {
     "name": "stdout",
     "output_type": "stream",
     "text": [
      "+-------+--------+------+---------+---------------+\n",
      "|user_id|movie_id|rating|timestamp|_corrupt_record|\n",
      "+-------+--------+------+---------+---------------+\n",
      "|    196|     242|     3|881250949|           null|\n",
      "|    186|     302|     3|891717742|           null|\n",
      "|     22|     377|     1|878887116|           null|\n",
      "|    244|      51|     2|880606923|           null|\n",
      "|    166|     346|     1|886397596|           null|\n",
      "+-------+--------+------+---------+---------------+\n",
      "only showing top 5 rows\n",
      "\n",
      "root\n",
      " |-- user_id: integer (nullable = true)\n",
      " |-- movie_id: integer (nullable = true)\n",
      " |-- rating: integer (nullable = true)\n",
      " |-- timestamp: long (nullable = true)\n",
      " |-- _corrupt_record: string (nullable = true)\n",
      "\n"
     ]
    },
    {
     "data": {
      "text/plain": [
       "['user_id', 'movie_id', 'rating', 'timestamp', '_corrupt_record']"
      ]
     },
     "execution_count": 3,
     "metadata": {},
     "output_type": "execute_result"
    }
   ],
   "source": [
    "# define the schema for u.data\n",
    "schema = StructType([\n",
    "    StructField(\"user_id\", IntegerType(), True),\n",
    "    StructField(\"movie_id\", IntegerType(), True),\n",
    "    StructField(\"rating\", IntegerType(), True),\n",
    "    StructField(\"timestamp\", LongType(), True),\n",
    "    StructField(\"_corrupt_record\", StringType(), True)\n",
    "])\n",
    "\n",
    "opt = {'header':False, 'sep':'\\t', 'mode':'permissive', 'inferschema':False}\n",
    "data_df = spark.read.format('csv')\\\n",
    "                    .options(**opt)\\\n",
    "                    .schema(schema)\\\n",
    "                    .load(\"/home/chaitanya/GIT/P-SPARK/case_study1/u.data\")\n",
    "data_df.show(5)\n",
    "data_df.count()\n",
    "data_df.printSchema()\n",
    "data_df.columns"
   ]
  },
  {
   "cell_type": "code",
   "execution_count": 6,
   "metadata": {},
   "outputs": [
    {
     "name": "stdout",
     "output_type": "stream",
     "text": [
      "+------+---+------+----------+-------+---------------+\n",
      "|UserId|Age|Gender|Occupation|ZipCode|_corrupt_record|\n",
      "+------+---+------+----------+-------+---------------+\n",
      "|     1| 24|     M|technician|  85711|           null|\n",
      "|     2| 53|     F|     other|  94043|           null|\n",
      "|     3| 23|     M|    writer|  32067|           null|\n",
      "|     4| 24|     M|technician|  43537|           null|\n",
      "|     5| 33|     F|     other|  15213|           null|\n",
      "+------+---+------+----------+-------+---------------+\n",
      "only showing top 5 rows\n",
      "\n",
      "root\n",
      " |-- UserId: integer (nullable = true)\n",
      " |-- Age: integer (nullable = true)\n",
      " |-- Gender: string (nullable = true)\n",
      " |-- Occupation: string (nullable = true)\n",
      " |-- ZipCode: integer (nullable = true)\n",
      " |-- _corrupt_record: string (nullable = true)\n",
      "\n"
     ]
    }
   ],
   "source": [
    "\n",
    "#define the schema for u.user\n",
    "user_schema_field = [StructField('UserId', IntegerType(), True),\n",
    "                     StructField('Age', IntegerType(), True),\n",
    "                     StructField('Gender',StringType(), True),\n",
    "                     StructField('Occupation',StringType(),True),\n",
    "                     StructField('ZipCode', IntegerType(), True),\n",
    "                     StructField('_corrupt_record',StringType(), True)]\n",
    "\n",
    "user_schema = StructType(user_schema_field)\n",
    "\n",
    "u_opt= {'header':False, 'sep':'|', 'mode':'permissive'}\n",
    "user_df = spark.read.format('csv')\\\n",
    "                    .options(**u_opt)\\\n",
    "                    .schema(user_schema)\\\n",
    "                    .load('/home/chaitanya/GIT/P-SPARK/case_study1/u.user')\n",
    "\n",
    "user_df.show(5)                 \n",
    "user_df.count()\n",
    "user_df.printSchema()"
   ]
  },
  {
   "cell_type": "code",
   "execution_count": 8,
   "metadata": {},
   "outputs": [
    {
     "name": "stderr",
     "output_type": "stream",
     "text": [
      "                                                                                \r"
     ]
    },
    {
     "name": "stdout",
     "output_type": "stream",
     "text": [
      "+------+-----+\n",
      "|Gender|count|\n",
      "+------+-----+\n",
      "|     F|  273|\n",
      "|     M|  670|\n",
      "+------+-----+\n",
      "\n"
     ]
    }
   ],
   "source": [
    "gender_df = user_df.groupBy(col('Gender')).count()\n",
    "gender_df.show()"
   ]
  },
  {
   "cell_type": "code",
   "execution_count": 14,
   "metadata": {},
   "outputs": [
    {
     "name": "stderr",
     "output_type": "stream",
     "text": [
      "23/12/10 01:16:33 WARN WindowExec: No Partition Defined for Window operation! Moving all data to a single partition, this can cause serious performance degradation.\n",
      "[Stage 26:=====================================================>(198 + 1) / 200]\r"
     ]
    },
    {
     "name": "stdout",
     "output_type": "stream",
     "text": [
      "+--------+-----+-------+\n",
      "|movie_id|count|ranking|\n",
      "+--------+-----+-------+\n",
      "|    1682|    1|      1|\n",
      "|    1681|    1|      2|\n",
      "|    1680|    1|      3|\n",
      "|    1679|    1|      4|\n",
      "|    1678|    1|      5|\n",
      "+--------+-----+-------+\n",
      "only showing top 5 rows\n",
      "\n"
     ]
    },
    {
     "name": "stderr",
     "output_type": "stream",
     "text": [
      "                                                                                \r"
     ]
    }
   ],
   "source": [
    "# 2 Give the top 5 movies which are reviewed maximum number of times \n",
    "from pyspark.sql.window import Window\n",
    "\n",
    "\n",
    "data_groupby_df = data_df.groupBy(col('movie_id')).count()\n",
    "window_movie = Window.orderBy(col('movie_id').desc())\n",
    "review_df = data_groupby_df.withColumn('ranking', dense_rank().over(window_movie))\n",
    "review_df.show(5)"
   ]
  },
  {
   "cell_type": "code",
   "execution_count": null,
   "metadata": {},
   "outputs": [],
   "source": [
    "from pyspark.sql import SparkSession\n",
    "from pyspark.sql.window import Window\n",
    "from pyspark.sql.functions import col, dense_rank\n",
    "\n",
    "# Create a Spark session\n",
    "spark = SparkSession.builder \\\n",
    "    .appName('example') \\\n",
    "    .getOrCreate()\n",
    "\n",
    "# Assuming data_df1 and data_df2 are two DataFrames with a column named 'count'\n",
    "# You can adjust this according to your actual DataFrames\n",
    "\n",
    "# Define a Window specification to rank by the 'count' column from data_df1\n",
    "window_spec_df1 = Window.orderBy(col('data_df1_count').desc())\n",
    "\n",
    "# Calculate the count of reviews for each movie in data_df1\n",
    "movie_review_counts_df1 = data_df1.groupBy('movie_id').count().withColumnRenamed('count', 'data_df1_count')\n",
    "\n",
    "# Add a dense rank column based on the review counts and the specified window specification\n",
    "ranked_movies_df1 = movie_review_counts_df1.withColumn('rank_df1', dense_rank().over(window_spec_df1))\n",
    "\n",
    "# Define a Window specification to rank by the 'count' column from data_df2\n",
    "window_spec_df2 = Window.orderBy(col('data_df2_count').desc())\n",
    "\n",
    "# Calculate the count of reviews for each movie in data_df2\n",
    "movie_review_counts_df2 = data_df2.groupBy('movie_id').count().withColumnRenamed('count', 'data_df2_count')\n",
    "\n",
    "# Add a dense rank column based on the review counts and the specified window specification\n",
    "ranked_movies_df2 = movie_review_counts_df2.withColumn('rank_df2', dense_rank().over(window_spec_df2))\n",
    "\n",
    "# Show the top 5 movies with the highest review counts for both DataFrames\n",
    "top_movies_df1 = ranked_movies_df1.filter(col('rank_df1') <= 5)\n",
    "top_movies_df2 = ranked_movies_df2.filter(col('rank_df2') <= 5)\n",
    "\n",
    "top_movies_df1.show()\n",
    "top_movies_df2.show()\n"
   ]
  }
 ],
 "metadata": {
  "kernelspec": {
   "display_name": ".spark-env",
   "language": "python",
   "name": "python3"
  },
  "language_info": {
   "codemirror_mode": {
    "name": "ipython",
    "version": 3
   },
   "file_extension": ".py",
   "mimetype": "text/x-python",
   "name": "python",
   "nbconvert_exporter": "python",
   "pygments_lexer": "ipython3",
   "version": "3.8.18"
  }
 },
 "nbformat": 4,
 "nbformat_minor": 2
}
