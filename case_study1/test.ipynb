{
 "cells": [
  {
   "cell_type": "code",
   "execution_count": 1,
   "metadata": {},
   "outputs": [
    {
     "name": "stderr",
     "output_type": "stream",
     "text": [
      "23/12/13 23:03:54 WARN Utils: Your hostname, debian resolves to a loopback address: 127.0.1.1; using 192.168.1.8 instead (on interface wlp0s20f3)\n",
      "23/12/13 23:03:54 WARN Utils: Set SPARK_LOCAL_IP if you need to bind to another address\n",
      "23/12/13 23:03:54 WARN NativeCodeLoader: Unable to load native-hadoop library for your platform... using builtin-java classes where applicable\n",
      "Using Spark's default log4j profile: org/apache/spark/log4j-defaults.properties\n",
      "Setting default log level to \"WARN\".\n",
      "To adjust logging level use sc.setLogLevel(newLevel). For SparkR, use setLogLevel(newLevel).\n"
     ]
    }
   ],
   "source": [
    "from pyspark.sql import SparkSession\n",
    "from pyspark.sql.types import *\n",
    "from pyspark.sql.functions import *\n",
    "\n",
    "spark = SparkSession.builder\\\n",
    "                    .appName('movie')\\\n",
    "                    .master('local')\\\n",
    "                    .getOrCreate()"
   ]
  },
  {
   "cell_type": "code",
   "execution_count": 2,
   "metadata": {},
   "outputs": [
    {
     "name": "stdout",
     "output_type": "stream",
     "text": [
      "+-------+--------+------+-------------------+---------------+\n",
      "|user_id|movie_id|rating|          timestamp|_corrupt_record|\n",
      "+-------+--------+------+-------------------+---------------+\n",
      "|    196|     242|     3|1997-12-04 21:25:49|           null|\n",
      "|    186|     302|     3|1998-04-05 00:52:22|           null|\n",
      "|     22|     377|     1|1997-11-07 12:48:36|           null|\n",
      "|    244|      51|     2|1997-11-27 10:32:03|           null|\n",
      "|    166|     346|     1|1998-02-02 11:03:16|           null|\n",
      "+-------+--------+------+-------------------+---------------+\n",
      "only showing top 5 rows\n",
      "\n",
      "root\n",
      " |-- user_id: integer (nullable = true)\n",
      " |-- movie_id: integer (nullable = true)\n",
      " |-- rating: integer (nullable = true)\n",
      " |-- timestamp: timestamp (nullable = true)\n",
      " |-- _corrupt_record: string (nullable = true)\n",
      "\n"
     ]
    },
    {
     "data": {
      "text/plain": [
       "['user_id', 'movie_id', 'rating', 'timestamp', '_corrupt_record']"
      ]
     },
     "execution_count": 2,
     "metadata": {},
     "output_type": "execute_result"
    }
   ],
   "source": [
    "# define the schema for u.data\n",
    "schema = StructType([\n",
    "    StructField(\"user_id\", IntegerType(), True),\n",
    "    StructField(\"movie_id\", IntegerType(), True),\n",
    "    StructField(\"rating\", IntegerType(), True),\n",
    "    StructField(\"timestamp\", LongType(), True),\n",
    "    StructField(\"_corrupt_record\", StringType(), True)\n",
    "])\n",
    "\n",
    "opt = {'header':False, 'sep':'\\t', 'mode':'permissive', 'inferschema':False}\n",
    "data_df = spark.read.format('csv')\\\n",
    "                    .options(**opt)\\\n",
    "                    .schema(schema)\\\n",
    "                    .load(\"/home/chaitanya/GIT/P-SPARK/case_study1/u.data\")\n",
    "data_df = data_df.withColumn('timestamp', from_unixtime(col('timestamp')).cast('timestamp'))\n",
    "data_df.show(5)\n",
    "data_df.printSchema()\n",
    "data_df.columns"
   ]
  },
  {
   "cell_type": "code",
   "execution_count": 14,
   "metadata": {},
   "outputs": [
    {
     "name": "stdout",
     "output_type": "stream",
     "text": [
      "+-------+--------+------+-------------------+---------------+\n",
      "|user_id|movie_id|rating|          timestamp|_corrupt_record|\n",
      "+-------+--------+------+-------------------+---------------+\n",
      "|    196|     242|     3|1997-12-04 21:25:49|           null|\n",
      "|    186|     302|     3|1998-04-05 00:52:22|           null|\n",
      "|     22|     377|     1|1997-11-07 12:48:36|           null|\n",
      "|    244|      51|     2|1997-11-27 10:32:03|           null|\n",
      "+-------+--------+------+-------------------+---------------+\n",
      "only showing top 4 rows\n",
      "\n"
     ]
    }
   ],
   "source": [
    "data_df.count()\n",
    "data_df.show(4)"
   ]
  },
  {
   "cell_type": "code",
   "execution_count": 9,
   "metadata": {},
   "outputs": [
    {
     "name": "stdout",
     "output_type": "stream",
     "text": [
      "+------+---+------+----------+-------+---------------+\n",
      "|UserId|Age|Gender|Occupation|ZipCode|_corrupt_record|\n",
      "+------+---+------+----------+-------+---------------+\n",
      "|     1| 24|     M|technician|  85711|           null|\n",
      "|     2| 53|     F|     other|  94043|           null|\n",
      "|     3| 23|     M|    writer|  32067|           null|\n",
      "|     4| 24|     M|technician|  43537|           null|\n",
      "|     5| 33|     F|     other|  15213|           null|\n",
      "+------+---+------+----------+-------+---------------+\n",
      "only showing top 5 rows\n",
      "\n",
      "root\n",
      " |-- UserId: integer (nullable = true)\n",
      " |-- Age: integer (nullable = true)\n",
      " |-- Gender: string (nullable = true)\n",
      " |-- Occupation: string (nullable = true)\n",
      " |-- ZipCode: integer (nullable = true)\n",
      " |-- _corrupt_record: string (nullable = true)\n",
      "\n"
     ]
    }
   ],
   "source": [
    "\n",
    "#define the schema for u.user\n",
    "user_schema_field = [StructField('UserId', IntegerType(), True),\n",
    "                     StructField('Age', IntegerType(), True),\n",
    "                     StructField('Gender',StringType(), True),\n",
    "                     StructField('Occupation',StringType(),True),\n",
    "                     StructField('ZipCode', IntegerType(), True),\n",
    "                     StructField('_corrupt_record',StringType(), True)]\n",
    "\n",
    "user_schema = StructType(user_schema_field)\n",
    "\n",
    "u_opt= {'header':False, 'sep':'|', 'mode':'permissive'}\n",
    "user_df = spark.read.format('csv')\\\n",
    "                    .options(**u_opt)\\\n",
    "                    .schema(user_schema)\\\n",
    "                    .load('/home/chaitanya/GIT/P-SPARK/case_study1/u.user')\n",
    "\n",
    "user_df.show(5)                 \n",
    "user_df.printSchema()"
   ]
  },
  {
   "cell_type": "code",
   "execution_count": 10,
   "metadata": {},
   "outputs": [
    {
     "data": {
      "text/plain": [
       "943"
      ]
     },
     "execution_count": 10,
     "metadata": {},
     "output_type": "execute_result"
    }
   ],
   "source": [
    "user_df.count()"
   ]
  },
  {
   "cell_type": "code",
   "execution_count": 16,
   "metadata": {},
   "outputs": [
    {
     "name": "stdout",
     "output_type": "stream",
     "text": [
      "+------+-----+\n",
      "|Gender|count|\n",
      "+------+-----+\n",
      "|     F|  273|\n",
      "|     M|  670|\n",
      "+------+-----+\n",
      "\n"
     ]
    }
   ],
   "source": [
    "# 1. Give gender-wise breakup of the users \n",
    "gender_df = user_df.groupBy(col('Gender')).count()\n",
    "gender_df.show()"
   ]
  },
  {
   "cell_type": "code",
   "execution_count": 49,
   "metadata": {},
   "outputs": [
    {
     "name": "stderr",
     "output_type": "stream",
     "text": [
      "23/12/13 23:48:20 WARN WindowExec: No Partition Defined for Window operation! Moving all data to a single partition, this can cause serious performance degradation.\n"
     ]
    },
    {
     "name": "stdout",
     "output_type": "stream",
     "text": [
      "+--------+-----------------+-------+\n",
      "|movie_id|movie_rated_count|ranking|\n",
      "+--------+-----------------+-------+\n",
      "|      50|              583|      1|\n",
      "|     258|              509|      2|\n",
      "|     100|              508|      3|\n",
      "|     181|              507|      4|\n",
      "|     294|              485|      5|\n",
      "+--------+-----------------+-------+\n",
      "only showing top 5 rows\n",
      "\n"
     ]
    }
   ],
   "source": [
    "# 2 Give the top 5 movies which are reviewed maximum number of times \n",
    "from pyspark.sql.window import Window\n",
    "\n",
    "\n",
    "data_groupby_df = data_df.groupBy(col('movie_id')).count().withColumnRenamed('count', 'movie_rated_count')\n",
    "# data_groupby_df.show()\n",
    "window_movie = Window.orderBy(col('movie_rated_count').desc())\n",
    "review_df = data_groupby_df.withColumn('ranking', dense_rank().over(window_movie))\n",
    "review_df.show(5)"
   ]
  },
  {
   "cell_type": "code",
   "execution_count": 66,
   "metadata": {},
   "outputs": [
    {
     "name": "stderr",
     "output_type": "stream",
     "text": [
      "23/12/14 00:14:43 WARN WindowExec: No Partition Defined for Window operation! Moving all data to a single partition, this can cause serious performance degradation.\n"
     ]
    },
    {
     "name": "stdout",
     "output_type": "stream",
     "text": [
      "+-------+----------+----------------+\n",
      "|user_id|count_user|user_rating_rank|\n",
      "+-------+----------+----------------+\n",
      "|    405|       737|               1|\n",
      "|    655|       685|               2|\n",
      "|     13|       636|               3|\n",
      "|    450|       540|               4|\n",
      "|    276|       518|               5|\n",
      "+-------+----------+----------------+\n",
      "only showing top 5 rows\n",
      "\n"
     ]
    }
   ],
   "source": [
    "# 3. Give the top 5 users who reviewed maximum number of movies \n",
    "from pyspark.sql.window import Window\n",
    "\n",
    "# data_df.show(5)\n",
    "user_review_df = data_df.groupBy(col('user_id')).count().withColumnRenamed('count', 'count_user')\n",
    "# user_review_df.show()\n",
    "window_user = Window.orderBy(col('count_user').desc())\n",
    "user_review_count_df = user_review_df.withColumn('user_rating_rank', dense_rank().over(window_user))\n",
    "user_review_count_df.show(5)"
   ]
  },
  {
   "cell_type": "code",
   "execution_count": 71,
   "metadata": {},
   "outputs": [
    {
     "name": "stderr",
     "output_type": "stream",
     "text": [
      "23/12/14 00:22:15 WARN WindowExec: No Partition Defined for Window operation! Moving all data to a single partition, this can cause serious performance degradation.\n"
     ]
    },
    {
     "name": "stdout",
     "output_type": "stream",
     "text": [
      "+--------+-----+------------+\n",
      "|movie_id|count|5_star_count|\n",
      "+--------+-----+------------+\n",
      "|      50|  325|           1|\n",
      "|     100|  227|           2|\n",
      "|     127|  214|           3|\n",
      "|     174|  202|           4|\n",
      "|      56|  188|           5|\n",
      "|     318|  186|           6|\n",
      "|      98|  181|           7|\n",
      "|     313|  179|           8|\n",
      "|     172|  172|           9|\n",
      "|     181|  171|          10|\n",
      "+--------+-----+------------+\n",
      "\n"
     ]
    }
   ],
   "source": [
    "# 4. List the top 10 movies which received highest number of 5 star ratings \n",
    "from pyspark.sql.window import Window\n",
    "window_star = Window.orderBy(col('count').desc())\n",
    "movie_star_df = data_df.filter(col('rating') == 5)\\\n",
    "    .groupBy(col('movie_id')).count()\\\n",
    "    .withColumn('5_star_count', dense_rank().over(window_star))\\\n",
    "    .filter(col('5_star_count') <= 10)\n",
    "movie_star_df.show()\n"
   ]
  },
  {
   "cell_type": "code",
   "execution_count": 79,
   "metadata": {},
   "outputs": [
    {
     "name": "stderr",
     "output_type": "stream",
     "text": [
      "23/12/14 00:29:49 WARN WindowExec: No Partition Defined for Window operation! Moving all data to a single partition, this can cause serious performance degradation.\n",
      "[Stage 212:===================================================> (195 + 1) / 200]\r"
     ]
    },
    {
     "name": "stdout",
     "output_type": "stream",
     "text": [
      "+-------+-----+----------------------+\n",
      "|user_id|count|user_gave_5_start_rank|\n",
      "+-------+-----+----------------------+\n",
      "|    416|  172|                     1|\n",
      "|      7|  161|                     2|\n",
      "|     90|  147|                     3|\n",
      "|    592|  145|                     4|\n",
      "|    747|  142|                     5|\n",
      "|    312|  139|                     6|\n",
      "|    551|  137|                     7|\n",
      "|     13|  136|                     8|\n",
      "|     59|  134|                     9|\n",
      "|    472|  126|                    10|\n",
      "|    450|  126|                    10|\n",
      "|    130|  126|                    10|\n",
      "+-------+-----+----------------------+\n",
      "\n"
     ]
    },
    {
     "name": "stderr",
     "output_type": "stream",
     "text": [
      "                                                                                \r"
     ]
    }
   ],
   "source": [
    "# 5. List the top 10 users who gave highest number of 5 star ratings\n",
    "# data_df.show()\n",
    "from pyspark.sql.window import Window\n",
    "\n",
    "user_star_window_specs = Window.orderBy(col('count').desc())\n",
    "user_count_star_df = data_df.filter(col('rating') == 5)\\\n",
    "                            .groupBy(col('user_id'))\\\n",
    "                            .count().orderBy(col('count').desc())\\\n",
    "                            .withColumn('user_gave_5_start_rank', dense_rank().over(user_star_window_specs))\\\n",
    "                            .filter(col('user_gave_5_start_rank') <= 10)\n",
    "user_count_star_df.show()"
   ]
  },
  {
   "cell_type": "code",
   "execution_count": 81,
   "metadata": {},
   "outputs": [
    {
     "name": "stdout",
     "output_type": "stream",
     "text": [
      "+------+---+------+----------+-------+---------------+\n",
      "|UserId|Age|Gender|Occupation|ZipCode|_corrupt_record|\n",
      "+------+---+------+----------+-------+---------------+\n",
      "|     1| 24|     M|technician|  85711|           null|\n",
      "|     2| 53|     F|     other|  94043|           null|\n",
      "|     3| 23|     M|    writer|  32067|           null|\n",
      "|     4| 24|     M|technician|  43537|           null|\n",
      "|     5| 33|     F|     other|  15213|           null|\n",
      "+------+---+------+----------+-------+---------------+\n",
      "only showing top 5 rows\n",
      "\n"
     ]
    }
   ],
   "source": [
    "user_df.show(5)"
   ]
  },
  {
   "cell_type": "code",
   "execution_count": 10,
   "metadata": {},
   "outputs": [
    {
     "data": {
      "text/plain": [
       "datetime.datetime(2023, 12, 14, 16, 39, 38, 789490)"
      ]
     },
     "execution_count": 10,
     "metadata": {},
     "output_type": "execute_result"
    }
   ],
   "source": []
  },
  {
   "cell_type": "code",
   "execution_count": 12,
   "metadata": {},
   "outputs": [
    {
     "name": "stdout",
     "output_type": "stream",
     "text": [
      "2023-12-14 16:40:23.970065\n"
     ]
    }
   ],
   "source": []
  }
 ],
 "metadata": {
  "kernelspec": {
   "display_name": ".spark-env",
   "language": "python",
   "name": "python3"
  },
  "language_info": {
   "codemirror_mode": {
    "name": "ipython",
    "version": 3
   },
   "file_extension": ".py",
   "mimetype": "text/x-python",
   "name": "python",
   "nbconvert_exporter": "python",
   "pygments_lexer": "ipython3",
   "version": "3.8.18"
  }
 },
 "nbformat": 4,
 "nbformat_minor": 2
}
