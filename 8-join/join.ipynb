{
 "cells": [
  {
   "cell_type": "code",
   "execution_count": 1,
   "metadata": {},
   "outputs": [],
   "source": [
    "from pyspark.sql import SparkSession\n",
    "from pyspark.sql.functions import *\n",
    "\n"
   ]
  },
  {
   "cell_type": "code",
   "execution_count": 2,
   "metadata": {},
   "outputs": [
    {
     "name": "stderr",
     "output_type": "stream",
     "text": [
      "24/04/11 22:43:18 WARN Utils: Your hostname, debian resolves to a loopback address: 127.0.1.1; using 192.168.1.25 instead (on interface wlp0s20f3)\n",
      "24/04/11 22:43:18 WARN Utils: Set SPARK_LOCAL_IP if you need to bind to another address\n",
      "24/04/11 22:43:18 WARN NativeCodeLoader: Unable to load native-hadoop library for your platform... using builtin-java classes where applicable\n",
      "Using Spark's default log4j profile: org/apache/spark/log4j-defaults.properties\n",
      "Setting default log level to \"WARN\".\n",
      "To adjust logging level use sc.setLogLevel(newLevel). For SparkR, use setLogLevel(newLevel).\n",
      "24/04/11 22:43:21 WARN Utils: Service 'SparkUI' could not bind on port 4040. Attempting port 4041.\n"
     ]
    }
   ],
   "source": [
    "spark = SparkSession.builder \\\n",
    "                    .master('local[4]')\\\n",
    "                    .appName('join')\\\n",
    "                    .getOrCreate()"
   ]
  },
  {
   "cell_type": "code",
   "execution_count": 3,
   "metadata": {},
   "outputs": [
    {
     "name": "stderr",
     "output_type": "stream",
     "text": [
      "                                                                                \r"
     ]
    },
    {
     "name": "stdout",
     "output_type": "stream",
     "text": [
      "+-----------+--------------+-----------------+-------------+\n",
      "|employee_id|          name|        job_title|department_id|\n",
      "+-----------+--------------+-----------------+-------------+\n",
      "|          1|      John Doe|Software Engineer|          101|\n",
      "|          2|    Jane Smith|   Data Scientist|          102|\n",
      "|          3|   Bob Johnson|  Product Manager|          101|\n",
      "|          4|Alice Williams|Software Engineer|          103|\n",
      "|          5|   David Brown|     Data Analyst|          102|\n",
      "|          6|   Emily Davis|Software Engineer|          101|\n",
      "|          7|  Chris Miller|  Product Manager|          103|\n",
      "|          8|  Susan Wilson|   Data Scientist|          102|\n",
      "|          9|    Mike Jones|Software Engineer|          101|\n",
      "|         10|   Laura White|     Data Analyst|          102|\n",
      "+-----------+--------------+-----------------+-------------+\n",
      "\n"
     ]
    }
   ],
   "source": [
    "employee_df = spark.read.format('csv')\\\n",
    "                        .option('inferschema',True)\\\n",
    "                        .option('mode','permissive')\\\n",
    "                        .option('header',True)\\\n",
    "                        .option(\"escape\", '\\\"')\\\n",
    "                        .load('employee.csv')\n",
    "employee_df.show()"
   ]
  },
  {
   "cell_type": "code",
   "execution_count": 4,
   "metadata": {},
   "outputs": [],
   "source": [
    "sc = spark.sparkContext\n",
    "rdd = sc"
   ]
  },
  {
   "cell_type": "code",
   "execution_count": 5,
   "metadata": {},
   "outputs": [
    {
     "name": "stdout",
     "output_type": "stream",
     "text": [
      "+-------------+------------------+\n",
      "|department_id|   department_name|\n",
      "+-------------+------------------+\n",
      "|          101|       Engineering|\n",
      "|          102|      Data Science|\n",
      "|          103|Product Management|\n",
      "|          104| Quality Assurance|\n",
      "|          105|         Marketing|\n",
      "+-------------+------------------+\n",
      "\n"
     ]
    }
   ],
   "source": [
    "dept_df = spark.read.format('csv')\\\n",
    "                        .option('inferschema',True)\\\n",
    "                        .option('mode','permissive')\\\n",
    "                        .option('header',True)\\\n",
    "                        .option(\"escape\", '\\\"')\\\n",
    "                        .load('department.csv')\n",
    "dept_df.show()\n",
    "                        "
   ]
  },
  {
   "cell_type": "code",
   "execution_count": 6,
   "metadata": {},
   "outputs": [
    {
     "name": "stdout",
     "output_type": "stream",
     "text": [
      "+-----------+--------------+------------------+\n",
      "|employee_id|          name|   department_name|\n",
      "+-----------+--------------+------------------+\n",
      "|          1|      John Doe|       Engineering|\n",
      "|          2|    Jane Smith|      Data Science|\n",
      "|          3|   Bob Johnson|       Engineering|\n",
      "|          4|Alice Williams|Product Management|\n",
      "|          5|   David Brown|      Data Science|\n",
      "|          6|   Emily Davis|       Engineering|\n",
      "|          7|  Chris Miller|Product Management|\n",
      "|          8|  Susan Wilson|      Data Science|\n",
      "|          9|    Mike Jones|       Engineering|\n",
      "|         10|   Laura White|      Data Science|\n",
      "+-----------+--------------+------------------+\n",
      "\n"
     ]
    }
   ],
   "source": [
    "join_df = employee_df.alias(\"e\").join(dept_df.alias(\"d\"), on =col(\"e.department_id\") == col('d.department_id'), how = 'inner').select(\"e.employee_id\", \"e.name\", \"d.department_name\")\n",
    "join_df.show()"
   ]
  }
 ],
 "metadata": {
  "kernelspec": {
   "display_name": ".spark-env",
   "language": "python",
   "name": "python3"
  },
  "language_info": {
   "codemirror_mode": {
    "name": "ipython",
    "version": 3
   },
   "file_extension": ".py",
   "mimetype": "text/x-python",
   "name": "python",
   "nbconvert_exporter": "python",
   "pygments_lexer": "ipython3",
   "version": "3.8.18"
  }
 },
 "nbformat": 4,
 "nbformat_minor": 2
}
