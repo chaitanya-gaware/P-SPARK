{
 "cells": [
  {
   "cell_type": "code",
   "execution_count": 50,
   "metadata": {},
   "outputs": [],
   "source": [
    "from pyspark.sql import SparkSession\n",
    "from pyspark.sql.functions import *\n",
    "from pyspark.sql.types import *\n"
   ]
  },
  {
   "cell_type": "code",
   "execution_count": 51,
   "metadata": {},
   "outputs": [
    {
     "name": "stderr",
     "output_type": "stream",
     "text": [
      "24/04/04 10:04:55 WARN Utils: Service 'SparkUI' could not bind on port 4040. Attempting port 4041.\n",
      "24/04/04 10:04:55 WARN Utils: Service 'SparkUI' could not bind on port 4041. Attempting port 4042.\n"
     ]
    }
   ],
   "source": [
    "spark = SparkSession.builder\\\n",
    "                    .master(\"local\")\\\n",
    "                    .appName(\"count_word\")\\\n",
    "                    .getOrCreate()"
   ]
  },
  {
   "cell_type": "code",
   "execution_count": 52,
   "metadata": {},
   "outputs": [
    {
     "name": "stdout",
     "output_type": "stream",
     "text": [
      "+--------------+\n",
      "|         value|\n",
      "+--------------+\n",
      "|chaitanya, hi |\n",
      "|     i am good|\n",
      "+--------------+\n",
      "\n"
     ]
    }
   ],
   "source": [
    "df = spark.read.format(\"text\")\\\n",
    "                .load(\"example.txt\")\n",
    "                \n",
    "df.show()"
   ]
  },
  {
   "cell_type": "code",
   "execution_count": 54,
   "metadata": {},
   "outputs": [
    {
     "name": "stdout",
     "output_type": "stream",
     "text": [
      "+--------------+------------------+\n",
      "|         value|              word|\n",
      "+--------------+------------------+\n",
      "|chaitanya, hi |[chaitanya,, hi, ]|\n",
      "|     i am good|     [i, am, good]|\n",
      "+--------------+------------------+\n",
      "\n"
     ]
    },
    {
     "data": {
      "text/plain": [
       "2"
      ]
     },
     "execution_count": 54,
     "metadata": {},
     "output_type": "execute_result"
    }
   ],
   "source": [
    "df_word = df.withColumn(\"word\", split(col(\"value\"), \" \"))\n",
    "df_word.show()\n",
    "df_word.count()"
   ]
  },
  {
   "cell_type": "code",
   "execution_count": 55,
   "metadata": {},
   "outputs": [
    {
     "name": "stdout",
     "output_type": "stream",
     "text": [
      "+--------------+------------------+-------+\n",
      "|         value|              word|numbers|\n",
      "+--------------+------------------+-------+\n",
      "|chaitanya, hi |[chaitanya,, hi, ]|      3|\n",
      "|     i am good|     [i, am, good]|      3|\n",
      "+--------------+------------------+-------+\n",
      "\n"
     ]
    }
   ],
   "source": [
    "df_count = df_word.withColumn(\"numbers\", size(col(\"word\")))\n",
    "df_count.show()"
   ]
  },
  {
   "cell_type": "code",
   "execution_count": 6,
   "metadata": {},
   "outputs": [
    {
     "name": "stdout",
     "output_type": "stream",
     "text": [
      "[Row(sum(numbers)=8)]\n"
     ]
    }
   ],
   "source": [
    "df_total_words = df_count.agg(sum(col(\"numbers\"))).collect()\n",
    "print(df_total_words)"
   ]
  },
  {
   "cell_type": "code",
   "execution_count": 36,
   "metadata": {},
   "outputs": [
    {
     "name": "stdout",
     "output_type": "stream",
     "text": [
      "Row(sum(numbers)=8)\n"
     ]
    }
   ],
   "source": [
    "df_total_words = df_count.agg(sum(col(\"numbers\"))).collect()[0]\n",
    "print(df_total_words)"
   ]
  },
  {
   "cell_type": "code",
   "execution_count": 37,
   "metadata": {},
   "outputs": [
    {
     "name": "stdout",
     "output_type": "stream",
     "text": [
      "8\n"
     ]
    }
   ],
   "source": [
    "df_total_words = df_count.agg(sum(col(\"numbers\"))).collect()[0][0]\n",
    "print(df_total_words)"
   ]
  },
  {
   "cell_type": "code",
   "execution_count": 40,
   "metadata": {},
   "outputs": [
    {
     "name": "stdout",
     "output_type": "stream",
     "text": [
      "+------------+\n",
      "|sum(numbers)|\n",
      "+------------+\n",
      "|           8|\n",
      "+------------+\n",
      "\n"
     ]
    }
   ],
   "source": [
    "df_total_words = df_count.agg(sum(col(\"numbers\"))).show()"
   ]
  },
  {
   "cell_type": "code",
   "execution_count": 60,
   "metadata": {},
   "outputs": [
    {
     "name": "stderr",
     "output_type": "stream",
     "text": [
      "24/04/04 10:07:22 WARN Utils: Service 'SparkUI' could not bind on port 4040. Attempting port 4041.\n",
      "24/04/04 10:07:22 WARN Utils: Service 'SparkUI' could not bind on port 4041. Attempting port 4042.\n"
     ]
    },
    {
     "name": "stdout",
     "output_type": "stream",
     "text": [
      "+--------------+\n",
      "|         value|\n",
      "+--------------+\n",
      "|chaitanya , hi|\n",
      "|     i am good|\n",
      "+--------------+\n",
      "\n",
      "+--------------+------------------+---------------+-----+------------+\n",
      "|         value|             words|        filter1|count|count_filter|\n",
      "+--------------+------------------+---------------+-----+------------+\n",
      "|chaitanya , hi|[chaitanya, ,, hi]|[chaitanya, hi]|    3|           2|\n",
      "|     i am good|     [i, am, good]|  [i, am, good]|    3|           3|\n",
      "+--------------+------------------+---------------+-----+------------+\n",
      "\n",
      "+----------+\n",
      "|sum(count)|\n",
      "+----------+\n",
      "|6         |\n",
      "+----------+\n",
      "\n",
      "6\n"
     ]
    }
   ],
   "source": [
    "# total number of words in the text file\n",
    "from pyspark.sql import SparkSession\n",
    "from pyspark.sql.functions import *\n",
    "from pyspark.sql.types import *\n",
    "from pyspark.sql.window import Window\n",
    "\n",
    "spark = SparkSession.builder.master(\"local\").appName(\"test\").getOrCreate()\n",
    "\n",
    "df = spark.read.format(\"text\").load(\"example.txt\")\n",
    "df.show()\n",
    "df1 = df.withColumn(\"words\", split(\"value\", \" \"))\\\n",
    "        .withColumn(\"filter1\", filter(\"words\", lambda x: x != \",\"))\\\n",
    "        .withColumn(\"count\", size(col(\"words\")))\\\n",
    "        .withColumn(\"count_filter\", size(col(\"filter1\")))\n",
    "df1.show()      \n",
    "df3 = df1.agg(sum(\"count\"))\n",
    "df3.show(truncate=False)\n",
    "print(df3.collect()[0][0])\n",
    "spark.stop()"
   ]
  },
  {
   "cell_type": "code",
   "execution_count": 19,
   "metadata": {},
   "outputs": [
    {
     "name": "stderr",
     "output_type": "stream",
     "text": [
      "24/04/04 09:47:46 WARN Utils: Service 'SparkUI' could not bind on port 4040. Attempting port 4041.\n",
      "24/04/04 09:47:46 WARN Utils: Service 'SparkUI' could not bind on port 4041. Attempting port 4042.\n"
     ]
    },
    {
     "name": "stdout",
     "output_type": "stream",
     "text": [
      "+--------------------+\n",
      "|               value|\n",
      "+--------------------+\n",
      "|hi my name is cha...|\n",
      "|           i am good|\n",
      "+--------------------+\n",
      "\n",
      "Total number of words in the text file: 11\n"
     ]
    }
   ],
   "source": [
    "\n"
   ]
  },
  {
   "cell_type": "code",
   "execution_count": null,
   "metadata": {},
   "outputs": [
    {
     "name": "stderr",
     "output_type": "stream",
     "text": [
      "24/04/04 09:22:42 WARN Utils: Your hostname, debian resolves to a loopback address: 127.0.1.1; using 192.168.1.38 instead (on interface wlp0s20f3)\n",
      "24/04/04 09:22:42 WARN Utils: Set SPARK_LOCAL_IP if you need to bind to another address\n",
      "24/04/04 09:22:42 WARN NativeCodeLoader: Unable to load native-hadoop library for your platform... using builtin-java classes where applicable\n",
      "Using Spark's default log4j profile: org/apache/spark/log4j-defaults.properties\n",
      "Setting default log level to \"WARN\".\n",
      "To adjust logging level use sc.setLogLevel(newLevel). For SparkR, use setLogLevel(newLevel).\n",
      "24/04/04 09:22:44 WARN Utils: Service 'SparkUI' could not bind on port 4040. Attempting port 4041.\n",
      "                                                                                \r"
     ]
    },
    {
     "name": "stdout",
     "output_type": "stream",
     "text": [
      "+---+---+------+\n",
      "| id|age|height|\n",
      "+---+---+------+\n",
      "|  q|  1|     2|\n",
      "|  b|  3|     4|\n",
      "+---+---+------+\n",
      "\n"
     ]
    }
   ],
   "source": [
    "x"
   ]
  },
  {
   "cell_type": "code",
   "execution_count": 5,
   "metadata": {},
   "outputs": [
    {
     "name": "stdout",
     "output_type": "stream",
     "text": [
      "[1, 3, 5, 7, 9]\n"
     ]
    }
   ],
   "source": []
  },
  {
   "cell_type": "code",
   "execution_count": 6,
   "metadata": {},
   "outputs": [
    {
     "data": {
      "text/plain": [
       "3"
      ]
     },
     "execution_count": 6,
     "metadata": {},
     "output_type": "execute_result"
    }
   ],
   "source": []
  },
  {
   "cell_type": "code",
   "execution_count": 11,
   "metadata": {},
   "outputs": [
    {
     "name": "stdout",
     "output_type": "stream",
     "text": [
      "doggy 18\n"
     ]
    }
   ],
   "source": []
  },
  {
   "cell_type": "code",
   "execution_count": 34,
   "metadata": {},
   "outputs": [
    {
     "name": "stdout",
     "output_type": "stream",
     "text": [
      "yogesh is brillient\n",
      "yogesh is brillient\n",
      "yogesh is brillient\n",
      "yogesh is brillient\n",
      "yogesh is brillient\n",
      "yogesh is brillient\n"
     ]
    }
   ],
   "source": [
    "# # Example using break statement\n",
    "# numbers = [1, 2, 3, 4, 5, 6, 7, 8, 9, 10]\n",
    "\n",
    "# # for num in numbers:\n",
    "# #     if num == 5:\n",
    "# #         break  # Exit the loop when num equals 5\n",
    "# #     print(num)\n",
    "\n",
    "# # # Output: 1 2 3 4\n",
    "\n",
    "# # Example using continue statement\n",
    "# for num in numbers:\n",
    "#     if num % 2 == 0:\n",
    "#         continue  # Skip even numbers\n",
    "#     print(num)\n",
    "\n",
    "# Output: 1 3 5 7 9\n",
    "\n",
    "# for i in ['y','o','g','e','s','h']:\n",
    "#     if i == 'q':\n",
    "#         print (i,\"dumb yogesh\")\n",
    "#     else:\n",
    "#         print (\"yogesh is brillient\")\n",
    "        \n",
    "\n",
    "        \n",
    "\n",
    "\n"
   ]
  },
  {
   "cell_type": "code",
   "execution_count": 22,
   "metadata": {},
   "outputs": [
    {
     "name": "stdout",
     "output_type": "stream",
     "text": [
      "{1, 2, 3, 4, 5}\n"
     ]
    }
   ],
   "source": [
    "my_set = {1, 2, 3, 4, 5}\n",
    "print(my_set)"
   ]
  }
 ],
 "metadata": {
  "kernelspec": {
   "display_name": "Python 3",
   "language": "python",
   "name": "python3"
  },
  "language_info": {
   "codemirror_mode": {
    "name": "ipython",
    "version": 3
   },
   "file_extension": ".py",
   "mimetype": "text/x-python",
   "name": "python",
   "nbconvert_exporter": "python",
   "pygments_lexer": "ipython3",
   "version": "3.8.18"
  }
 },
 "nbformat": 4,
 "nbformat_minor": 2
}
