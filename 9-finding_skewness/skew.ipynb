{
 "cells": [
  {
   "cell_type": "code",
   "execution_count": 1,
   "metadata": {},
   "outputs": [
    {
     "name": "stderr",
     "output_type": "stream",
     "text": [
      "24/03/30 16:09:27 WARN Utils: Your hostname, debian resolves to a loopback address: 127.0.1.1; using 192.168.1.13 instead (on interface wlp0s20f3)\n",
      "24/03/30 16:09:27 WARN Utils: Set SPARK_LOCAL_IP if you need to bind to another address\n",
      "24/03/30 16:09:33 WARN NativeCodeLoader: Unable to load native-hadoop library for your platform... using builtin-java classes where applicable\n",
      "Using Spark's default log4j profile: org/apache/spark/log4j-defaults.properties\n",
      "Setting default log level to \"WARN\".\n",
      "To adjust logging level use sc.setLogLevel(newLevel). For SparkR, use setLogLevel(newLevel).\n",
      "                                                                                \r"
     ]
    },
    {
     "name": "stdout",
     "output_type": "stream",
     "text": [
      "+---+\n",
      "| id|\n",
      "+---+\n",
      "|  A|\n",
      "|  A|\n",
      "|  A|\n",
      "|  B|\n",
      "|  B|\n",
      "|  C|\n",
      "+---+\n",
      "\n"
     ]
    }
   ],
   "source": [
    "from pyspark.sql import SparkSession\n",
    "from pyspark.sql.functions import *\n",
    "\n",
    "# Create a SparkSession\n",
    "spark = SparkSession.builder \\\n",
    "    .appName(\"Skewness Example\") \\\n",
    "    .getOrCreate()\n",
    "\n",
    "# Create a DataFrame with skewed data\n",
    "data = [(\"A\",), (\"A\",), (\"A\",), (\"B\",), (\"B\",), (\"C\",)]\n",
    "columns = [\"id\"]\n",
    "df = spark.createDataFrame(data, columns)\n",
    "df.show()\n"
   ]
  },
  {
   "cell_type": "code",
   "execution_count": 2,
   "metadata": {},
   "outputs": [
    {
     "name": "stdout",
     "output_type": "stream",
     "text": [
      "+---+\n",
      "| id|\n",
      "+---+\n",
      "|  A|\n",
      "|  A|\n",
      "|  A|\n",
      "|  B|\n",
      "|  B|\n",
      "|  C|\n",
      "|  A|\n",
      "|  A|\n",
      "|  A|\n",
      "|  B|\n",
      "|  B|\n",
      "|  C|\n",
      "|  A|\n",
      "|  A|\n",
      "|  A|\n",
      "|  B|\n",
      "|  B|\n",
      "|  C|\n",
      "|  A|\n",
      "|  A|\n",
      "+---+\n",
      "only showing top 20 rows\n",
      "\n"
     ]
    }
   ],
   "source": [
    "skewed_data = []\n",
    "for i in range(1, 1000):\n",
    "    skewed_data.extend(data)\n",
    "skewed_df  = spark.createDataFrame(skewed_data, columns)\n",
    "skewed_df.show()\n"
   ]
  },
  {
   "cell_type": "code",
   "execution_count": null,
   "metadata": {},
   "outputs": [],
   "source": [
    "skewed_df"
   ]
  },
  {
   "cell_type": "code",
   "execution_count": 19,
   "metadata": {},
   "outputs": [
    {
     "name": "stdout",
     "output_type": "stream",
     "text": [
      "+---+\n",
      "| id|\n",
      "+---+\n",
      "|  A|\n",
      "|  A|\n",
      "|  A|\n",
      "|  B|\n",
      "|  B|\n",
      "|  C|\n",
      "|  A|\n",
      "|  A|\n",
      "|  A|\n",
      "|  B|\n",
      "|  B|\n",
      "|  C|\n",
      "|  A|\n",
      "|  A|\n",
      "|  A|\n",
      "|  B|\n",
      "|  B|\n",
      "|  C|\n",
      "|  A|\n",
      "|  A|\n",
      "+---+\n",
      "only showing top 20 rows\n",
      "\n"
     ]
    }
   ],
   "source": [
    "# Union the original DataFrame with the skewed DataFrame\n",
    "df = df.union(skewed_df)\n",
    "df.show()\n",
    "df1 = df"
   ]
  },
  {
   "cell_type": "code",
   "execution_count": 20,
   "metadata": {},
   "outputs": [
    {
     "name": "stdout",
     "output_type": "stream",
     "text": [
      "+---+-----------+\n",
      "| id|partitionId|\n",
      "+---+-----------+\n",
      "|  A|          1|\n",
      "|  A|          2|\n",
      "|  A|          3|\n",
      "|  B|          5|\n",
      "|  B|          6|\n",
      "|  C|          7|\n",
      "|  A|          8|\n",
      "|  A|          8|\n",
      "|  A|          8|\n",
      "|  B|          8|\n",
      "|  B|          8|\n",
      "|  C|          8|\n",
      "|  A|          8|\n",
      "|  A|          8|\n",
      "|  A|          8|\n",
      "|  B|          8|\n",
      "|  B|          8|\n",
      "|  C|          8|\n",
      "|  A|          8|\n",
      "|  A|          8|\n",
      "+---+-----------+\n",
      "only showing top 20 rows\n",
      "\n"
     ]
    }
   ],
   "source": [
    "# Add a column to the DataFrame with the partition ID\n",
    "df = df.withColumn(\"partitionId\", spark_partition_id())\n",
    "df.show()"
   ]
  },
  {
   "cell_type": "code",
   "execution_count": 21,
   "metadata": {},
   "outputs": [
    {
     "name": "stdout",
     "output_type": "stream",
     "text": [
      "+-----------+-----+\n",
      "|partitionId|count|\n",
      "+-----------+-----+\n",
      "|         15|  751|\n",
      "|         14|  749|\n",
      "|         13|  749|\n",
      "|         12|  749|\n",
      "|         11|  749|\n",
      "|         10|  749|\n",
      "|          9|  749|\n",
      "|          8|  749|\n",
      "|          7|    1|\n",
      "|          6|    1|\n",
      "|          5|    1|\n",
      "|          3|    1|\n",
      "|          2|    1|\n",
      "|          1|    1|\n",
      "+-----------+-----+\n",
      "\n"
     ]
    }
   ],
   "source": [
    "# Compute the number of records in each partition and sort the results\n",
    "df = df.groupBy(\"partitionId\").count().orderBy(\"partitionId\", ascending=False)\n",
    "df.show()\n"
   ]
  },
  {
   "cell_type": "code",
   "execution_count": 22,
   "metadata": {},
   "outputs": [
    {
     "name": "stdout",
     "output_type": "stream",
     "text": [
      "+----------+----------+\n",
      "|max(count)|min(count)|\n",
      "+----------+----------+\n",
      "|       751|         1|\n",
      "+----------+----------+\n",
      "\n"
     ]
    }
   ],
   "source": [
    "df2 = df.select(max(col(\"count\")), min(col(\"count\")))\n",
    "df2.show()"
   ]
  },
  {
   "cell_type": "code",
   "execution_count": 23,
   "metadata": {},
   "outputs": [
    {
     "name": "stdout",
     "output_type": "stream",
     "text": [
      "+----+-----+\n",
      "|part|count|\n",
      "+----+-----+\n",
      "|   0|  600|\n",
      "|   1|  600|\n",
      "|   2|  601|\n",
      "|   3|  599|\n",
      "|   4|  599|\n",
      "|   5|  600|\n",
      "|   6|  600|\n",
      "|   7|  601|\n",
      "|   8|  600|\n",
      "|   9|  600|\n",
      "+----+-----+\n",
      "\n"
     ]
    },
    {
     "data": {
      "text/plain": [
       "10"
      ]
     },
     "execution_count": 23,
     "metadata": {},
     "output_type": "execute_result"
    }
   ],
   "source": [
    "re_df = df1.repartition(10)\n",
    "re_df = re_df.withColumn(\"part\", spark_partition_id())\n",
    "# re_df = re_df.groupBy(\"partitionId\").count().orderBy(\"partitionId\", ascending=False)\n",
    "\n",
    "\n",
    "re_df = re_df.groupBy(\"part\").count().orderBy(\"part\",ascending=True)\n",
    "re_df.show()\n",
    "re_df.rdd.getNumPartitions()"
   ]
  },
  {
   "cell_type": "code",
   "execution_count": 24,
   "metadata": {},
   "outputs": [
    {
     "name": "stdout",
     "output_type": "stream",
     "text": [
      "+----------+----------+\n",
      "|max(count)|min(count)|\n",
      "+----------+----------+\n",
      "|       601|       599|\n",
      "+----------+----------+\n",
      "\n"
     ]
    }
   ],
   "source": [
    "re_df1 = re_df.select(max(\"count\"), min(\"count\"))\n",
    "re_df1.show()"
   ]
  },
  {
   "cell_type": "code",
   "execution_count": 9,
   "metadata": {},
   "outputs": [
    {
     "name": "stdout",
     "output_type": "stream",
     "text": [
      "Time difference: 1 day, 8:16:29\n"
     ]
    }
   ],
   "source": [
    "\n",
    "\n",
    "# Define the two timestamps\n",
    "\n"
   ]
  },
  {
   "cell_type": "code",
   "execution_count": 14,
   "metadata": {},
   "outputs": [
    {
     "name": "stdout",
     "output_type": "stream",
     "text": [
      "Column<'to_date(2024-03-28 05:43:31.333, yyyy-MM-dd HH:mm:ss.SSS)'>\n"
     ]
    }
   ],
   "source": []
  },
  {
   "cell_type": "code",
   "execution_count": 3,
   "metadata": {},
   "outputs": [
    {
     "name": "stdout",
     "output_type": "stream",
     "text": [
      "+--------------------+----------+-------------------+\n",
      "|           timestamp|      date|         timestamps|\n",
      "+--------------------+----------+-------------------+\n",
      "| 2024-03-29 12:00:00|2024-03-29|2024-03-29 12:00:00|\n",
      "|2024-jan-30 13:00:00|      null|               null|\n",
      "| 2024-03-31 14:00:00|2024-03-31|2024-03-31 14:00:00|\n",
      "+--------------------+----------+-------------------+\n",
      "\n",
      "root\n",
      " |-- timestamp: string (nullable = true)\n",
      " |-- date: date (nullable = true)\n",
      " |-- timestamps: timestamp (nullable = true)\n",
      "\n"
     ]
    }
   ],
   "source": [
    "\n"
   ]
  },
  {
   "cell_type": "code",
   "execution_count": 2,
   "metadata": {},
   "outputs": [
    {
     "name": "stderr",
     "output_type": "stream",
     "text": [
      "                                                                                \r"
     ]
    },
    {
     "name": "stdout",
     "output_type": "stream",
     "text": [
      "+--------------------+----------+-------------------+\n",
      "|           timestamp|      date|         timestamps|\n",
      "+--------------------+----------+-------------------+\n",
      "| 2024-03-29 12:00:00|2024-03-29|2024-03-29 12:00:00|\n",
      "|2024-jan-30 13:00:00|      null|               null|\n",
      "| 2024-03-31 14:00:00|2024-03-31|2024-03-31 14:00:00|\n",
      "+--------------------+----------+-------------------+\n",
      "\n",
      "root\n",
      " |-- timestamp: string (nullable = true)\n",
      " |-- date: date (nullable = true)\n",
      " |-- timestamps: timestamp (nullable = true)\n",
      "\n"
     ]
    }
   ],
   "source": [
    "\n"
   ]
  },
  {
   "cell_type": "code",
   "execution_count": 5,
   "metadata": {},
   "outputs": [
    {
     "name": "stdout",
     "output_type": "stream",
     "text": [
      "Column<'current_date()'>\n"
     ]
    }
   ],
   "source": []
  }
 ],
 "metadata": {
  "kernelspec": {
   "display_name": ".spark-env",
   "language": "python",
   "name": "python3"
  },
  "language_info": {
   "codemirror_mode": {
    "name": "ipython",
    "version": 3
   },
   "file_extension": ".py",
   "mimetype": "text/x-python",
   "name": "python",
   "nbconvert_exporter": "python",
   "pygments_lexer": "ipython3",
   "version": "3.8.18"
  }
 },
 "nbformat": 4,
 "nbformat_minor": 2
}
